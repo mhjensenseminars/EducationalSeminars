{
 "cells": [
  {
   "cell_type": "markdown",
   "metadata": {},
   "source": [
    "<!-- Slides for Computing in science education -->\n",
    "<!-- dom:TITLE: Integrating a Computational Perspective in Physics (and Science) Courses -->\n",
    "# Integrating a Computational Perspective in Physics (and Science) Courses\n",
    "<!-- dom:AUTHOR: Morten Hjorth-Jensen  Email morten.hjorth-jensen@fys.uio.no at National Superconducting Cyclotron Laboratory and Department of Physics and Astronomy, Michigan State University, East Lansing, MI 48824, USA & Department of Physics and [Center for Computing in Science Education](http://www.mn.uio.no/ccse/english/people/index.html), University of Oslo, Oslo, Norway -->\n",
    "<!-- Author: -->  \n",
    "**Morten Hjorth-Jensen  Email morten.hjorth-jensen@fys.uio.no**, National Superconducting Cyclotron Laboratory and Department of Physics and Astronomy, Michigan State University, East Lansing, MI 48824, USA and Department of Physics and [Center for Computing in Science Education](http://www.mn.uio.no/ccse/english/people/index.html), University of Oslo, Oslo, Norway\n",
    "\n",
    "Date: **University of Trento, March 7, 2019, <http://mhjensenseminars.github.io/EducationalSeminars/doc/pub/UniTN/html/UniTN-reveal.html>**\n",
    "\n",
    "## Why should we focus on Computational Science and Data Science?\n",
    "* [By 2020, it is expected that one of every two jobs in the STEM (Science, Technology, Engineering and Mathematics) fields will be in computing](http://pathways.acm.org/executive-summary.html) (Association for Computing Machinery, 2013)\n",
    "\n",
    "* Computation is an essential and cross-cutting element of all STEM disciplines\n",
    "\n",
    "* Computational science and Data science have developed into  disciplines of their own right\n",
    "\n",
    "* Computations and the understanding of large data sets play an even larger role in basically all disciplines of STEM fields, Medicine, the Social Sciences, the Humanities and  education\n",
    "\n",
    "* Students at both undergraduate and graduate level are unprepared to use computational modeling, data science, and high performance computing – skills valued by a very broad range of employers.\n",
    "\n",
    "* The 3rd Industrial Revolution will alter significantly the demands on the workforce. To adapt a highly-qualified workforce to coming challenges  requires strong fundamental bases in STEM fields. Computational Science and Data Science can provide such bases at all stages.\n",
    "\n",
    "\n",
    "\n",
    "## [Computing across Disciplines at MSU and UiO](https://computationalscienceuio.github.io/CCAD/doc/pub/whitepaper/html/whitepaper-bs.html)\n",
    "\n",
    "<!-- dom:FIGURE: [figslides/cs.jpg, width=500 frac=0.7] -->\n",
    "<!-- begin figure -->\n",
    "\n",
    "<p></p>\n",
    "<img src=\"figslides/cs.jpg\" width=500>\n",
    "\n",
    "<!-- end figure -->\n",
    "\n",
    "\n",
    "\n",
    "## How to introduce computing in all disciplines: Future Research directions\n",
    "\n",
    "**Enhance Computational Science and Data Science across the disciplines.**\n",
    "\n",
    "* Computational Science and Data Science in Mathematics and all of the physical sciences (Astrophysics, Chemistry, Geoscience and Physics)\n",
    "\n",
    "* Bioinformatics\n",
    "\n",
    "* Develop research programs in [Quantum Computing and Quantum Information theory](https://www.aps.org/publications/apsnews/201802/ostp.cfm?utm_source=APS+Physics+Main+Group&utm_campaign=fb7a2e7d6b-News+021218&utm_medium=email&utm_term=0_825303224b-fb7a2e7d6b-106513221). Many universities are now developing research and [educational strategies in Quantum Computing](https://vprgs.msu.edu/event/interdisciplinary-forum-quantum-information-science)\n",
    "\n",
    "* Develop data-driven discovery research programs utilizing recent developments in machine learning\n",
    "\n",
    "* Computational life science\n",
    "\n",
    "* Computational Materials Science\n",
    "\n",
    "* Computational Economy and Data Science and computing in Law and the Social Sciences\n",
    "\n",
    "* Data Science and computing in the Humanities\n",
    "\n",
    "* And many more\n",
    "\n",
    "\n",
    "\n",
    "\n",
    "## And as a figure\n",
    "\n",
    "<!-- dom:FIGURE: [figslides/topics.png, width=800 frac=1.0] -->\n",
    "<!-- begin figure -->\n",
    "\n",
    "<p></p>\n",
    "<img src=\"figslides/topics.png\" width=800>\n",
    "\n",
    "<!-- end figure -->\n",
    "\n",
    "\n",
    "## Strengths, Possibilities and Synergies, an MSU and a UiO based perspective\n",
    "* Several Centers of excellence in research where Computational Science plays a major role\n",
    "\n",
    "* Newly established center of excellence in education research at UiO\n",
    "\n",
    "* Department or center for Data Science and Computational Science \n",
    "\n",
    "* Newly established Master of Science programs in Computational Science and Data Science and/or dual PhDs in Computational Science and specific discipline\n",
    "\n",
    "* Several excellent groups in STEM fields which do Computational Science\n",
    "\n",
    "* At UiO: Computational topics are included in all undergraduate STEM programs, now developing a bachelor program in Computational Science and Data Science\n",
    "\n",
    "* Computations in Life Science (UiO center for Bioinformatics, MSU coming)\n",
    "\n",
    "\n",
    "\n",
    "## Goals\n",
    "\n",
    "* Develop a comprehensive set of courses and degree programs at both undergraduate and graduate levels that will give students across the university exposure to practical computational methods, understanding how to analyse data and more generally to the idea of computers as problem-solving tools. \n",
    "\n",
    "* Develop an all university PhD program in Computational Science and Data Science\n",
    "\n",
    "* Develop an all university Master of Science Program in Computational Science and Data Science\n",
    "\n",
    "* Develop courses and course  modules in Computational Science and Data Science for the private and the public sectors\n",
    "\n",
    "* Develop a PhD program in Computational Science and Data Science tailored to the needs of the private and the public sectors\n",
    "\n",
    "* Facilitate the adoption of computational tools and techniques for both research and education across campus, through education and faculty collaboration. \n",
    "\n",
    "* Educate the next generation of school teachers and university teachers,  with a strong focus on digital competences.\n",
    "\n",
    "\n",
    "\n",
    "\n",
    "## Unique opportunities\n",
    "Computing competence represents a central element\n",
    "in scientific problem solving, from basic education and research to\n",
    "essentially almost all advanced problems in modern\n",
    "societies.\n",
    "\n",
    "Computing competence **enlarges the body of tools available to students** and\n",
    "scientists beyond classical tools and **allows for a more generic\n",
    "handling of problems**. Focusing on algorithmic aspects **results in\n",
    "deeper insights** about scientific problems.\n",
    "\n",
    "\n",
    "* Computing in science courses allows us to bring important elements of scientific methods at a much earlier stage in our students' education.\n",
    "\n",
    "* It gives the students skills and abilities that are asked for by society.\n",
    "\n",
    "* It gives us as university teachers a unique opportunity to enhance students' insights about our disciplines and how to solve scientific problems.\n",
    "\n",
    "\n",
    "\n",
    "\n",
    "## Computing competence\n",
    "**Computing means solving scientific problems using all possible tools**, including symbolic computing, computers and numerical algorithms, and analytical paper and pencil solutions .\n",
    "\n",
    "**Computing is about developing an understanding of the scientific method** by enhancing algorithmic thinking when solving problems.\n",
    "\n",
    "On the part of students, this competence involves being able to:\n",
    "\n",
    "* understand how algorithms are used to solve mathematical problems,\n",
    "\n",
    "* derive, verify, and implement algorithms,\n",
    "\n",
    "* understand what can go wrong with algorithms,\n",
    "\n",
    "* use these algorithms to construct reproducible scientific outcomes and to engage in science in ethical ways, and\n",
    "\n",
    "* think algorithmically for the purposes of gaining deeper insights about scientific problems.\n",
    "\n",
    "\n",
    "\n",
    "\n",
    "## Better understanding of the scientific method\n",
    "All these elements are central for maturing and gaining a better understanding of the modern scientific process *per se*.\n",
    "\n",
    "The power of the scientific method lies in identifying a given problem\n",
    "as a special case of an abstract class of problems, identifying\n",
    "general solution methods for this class of problems, and applying a\n",
    "general method to the specific problem (applying means, in the case of\n",
    "computing, calculations by pen and paper, symbolic computing, or\n",
    "numerical computing by ready-made and/or self-written software). This\n",
    "generic view on problems and methods is particularly important for\n",
    "understanding how to apply available, generic software to solve a\n",
    "particular problem.\n",
    "\n",
    "\n",
    "\n",
    "\n",
    "\n",
    "\n",
    "## Why should basic university education undergo a shift towards modern computing?\n",
    "\n",
    "* Algorithms involving pen and paper are traditionally aimed at what we often refer to as continuous models.\n",
    "\n",
    "* Application of computers calls for approximate discrete models.\n",
    "\n",
    "* Much of the development of **methods for continuous models are now being replaced by methods  for discrete models** in science and industry, simply because **much larger classes of problems can be addressed** with discrete models, often also by simpler and more generic methodologies.\n",
    "\n",
    "*However, verification of algorithms and understanding their limitations requires much of the classical knowledge about continuous models.*\n",
    "\n",
    "So, why should basic university education undergo a shift towards modern computing?\n",
    "\n",
    "## Why is computing competence important?\n",
    "The impact of the computer on mathematics and science is tremendous: **science and industry now rely on solving mathematical problems through computing**.\n",
    "* Computing can increase the relevance in education by solving more realistic problems earlier.\n",
    "\n",
    "* Computing through programming can be excellent training of creativity.\n",
    "\n",
    "* Computing can enhance the understanding of abstractions and generalization.\n",
    "\n",
    "* Computing can decrease the need for special tricks and tedious algebra, and shifts the focus to problem definition, visualization, and \"what if\" discussions.\n",
    "\n",
    "## Disasters attributable to poor management of code and more\n",
    "\n",
    "Have you been paying attention in your numerical analysis or scientific computation courses? If not, it could be a costly mistake. Here are some real life examples of what can happen when numerical algorithms are not correctly applied.\n",
    "\n",
    "1. [The Patriot Missile failure](http://www-users.math.umn.edu/~arnold/disasters/patriot.html), in Dharan, Saudi Arabia, on February 25, 1991 which resulted in 28 deaths, is ultimately attributable to poor handling of rounding errors.\n",
    "\n",
    "2. [The explosion of the Ariane 5 rocket](http://www-users.math.umn.edu/~arnold/disasters/ariane.html) just after lift-off on its maiden voyage off French Guiana, on June 4, 1996, was ultimately the consequence of a simple overflow.\n",
    "\n",
    "3. [The sinking of the Sleipner A](http://www-users.math.umn.edu/~arnold/disasters/sleipner.html) offshore platform in Gandsfjorden near Stavanger, Norway, on August 23, 1991, resulted in a loss of nearly one billion dollars. It was found to be the result of inaccurate finite element analysis.\n",
    "\n",
    "4. Scaling error, metric and imperial system of units, see the [Mars expedition](https://en.wikipedia.org/wiki/Mars_Climate_Orbiter).\n",
    "\n",
    "## Modeling and computations as a way to enhance algorithminc thinking\n",
    "\n",
    "Algorithmic  thinking as a way to\n",
    "\n",
    "* Enhance instruction based teaching\n",
    "\n",
    "* Introduce Research based teaching  from day one\n",
    "\n",
    "* Trigger further insights in math and other disciplines \n",
    "\n",
    "* Validation and verification of scientific results (the PRL example), with the possibility to emphasize ethical aspects as well. Version control is central.\n",
    "\n",
    "* Good working practices from day one.\n",
    "\n",
    "\n",
    "\n",
    "\n",
    "## The foundation, Computing in Science Education at UiO: Can we catch many birds with one stone?\n",
    "* How can we include and integrate an algorithmic (computational) perspective   in our basic education?\n",
    "\n",
    "* Can this enhance the students' understanding of mathematics and science?\n",
    "\n",
    "* Can it strengthen research based teaching?\n",
    "\n",
    "\n",
    "\n",
    "\n",
    "## What is needed?\n",
    "**Programming.**\n",
    "\n",
    "A compulsory programming course with a strong mathematical flavour. *Should give a solid foundation in programming as a problem solving technique in mathematics*. Programming is understanding! The line of thought when solving mathematical problems numerically enhances algorithmic thinking,  and thereby the students' understanding of the scientific process.\n",
    "\n",
    "\n",
    "\n",
    "**Mathematics and numerics.**\n",
    "\n",
    "Mathematics is at least as important as before, but should be supplemented with development, analysis, implementation, verification and validation of numerical methods. Science ethics and better understanding of the pedagogical process, almost for free!\n",
    "\n",
    "\n",
    "\n",
    "**Sciences.**\n",
    "\n",
    "Training in modeling and problem solving with numerical methods and visualisation, as well as traditional methods in Science courses, Physics, Chemistry, Biology, Geology, Engineering...\n",
    "\n",
    "\n",
    "\n",
    "\n",
    "\n",
    "## Implementation\n",
    "**Crucial ingredients.**\n",
    "\n",
    "\n",
    "* Support from governing bodies (high priorities at the College of Natural Science at UOslo and the Physics and Astronomy department of Michigan State University)\n",
    "\n",
    "* Cooperation across departmental boundaries\n",
    "\n",
    "* Willingness by individuals to give priority to teaching reform\n",
    "\n",
    "Consensus driven approach.\n",
    "\n",
    "\n",
    "\n",
    "\n",
    "\n",
    "## Implementation in Oslo: The [C(omputing in)S(cience)E(Education)](http://www.mn.uio.no/ccse/english/people/index.html)  project\n",
    "**What we do.**\n",
    "\n",
    "* Coordinated use of computational exercises and numerical tools in most undergraduate courses.\n",
    "\n",
    "* Help update the scientific staff's competence on computational aspects and give support (scientific, pedagogical and financial)  to those who wish to revise  their courses in a computational direction.\n",
    "\n",
    "* Teachers get good summer students to aid in introducing computational exercises\n",
    "\n",
    "* Develop courses and exercise modules with a computational perspective, both for students and teachers. New textbooks!! \n",
    "\n",
    "* Basic idea: mixture of mathematics, computation, informatics and topics from the physical sciences.\n",
    "\n",
    "Interesting outcome: higher focus on teaching and pedagogical issues!!\n",
    "\n",
    "\n",
    "\n",
    "\n",
    "## Example of bachelor program, Physics and Astronomy (astro path), University of Oslo\n",
    "<!-- dom:FIGURE: [figslides/astronomy.png, width=900 frac=0.6]  -->\n",
    "<!-- begin figure -->\n",
    "\n",
    "<p></p>\n",
    "<img src=\"figslides/astronomy.png\" width=900>\n",
    "\n",
    "<!-- end figure -->\n",
    "\n",
    "\n",
    "\n",
    "\n",
    "## Example: Computations from day one\n",
    "**Differentiation.**\n",
    "\n",
    "Three courses the first semester:  MAT1100, MAT-INF1100 og INF1100.\n",
    "* Definition  of the derivative in  MAT1100 (Calculus and analysis)"
   ]
  },
  {
   "cell_type": "markdown",
   "metadata": {},
   "source": [
    "$$\n",
    "f'(x)=\\lim_{h \\rightarrow 0}\\frac{f(x+h)-f(x)}{h}.\n",
    "$$"
   ]
  },
  {
   "cell_type": "markdown",
   "metadata": {},
   "source": [
    "* Algorithms to compute the derivative in MAT-INF1100  (Mathematical modelling with computing)"
   ]
  },
  {
   "cell_type": "markdown",
   "metadata": {},
   "source": [
    "$$\n",
    "f'(x)= \\frac{f(x+h)-f(x-h)}{2h}+O(h^2).\n",
    "$$"
   ]
  },
  {
   "cell_type": "markdown",
   "metadata": {},
   "source": [
    "* Implementation in Python in INF1100"
   ]
  },
  {
   "cell_type": "code",
   "execution_count": 1,
   "metadata": {},
   "outputs": [],
   "source": [
    "def differentiate(f, x, h=1E-5):\n",
    "     return (f(x+h) - f(x-h))/(2*h)"
   ]
  },
  {
   "cell_type": "markdown",
   "metadata": {},
   "source": [
    "## Example: Computations from day one\n",
    "**Differentiation and comparison with symbolic expressions.**\n",
    "\n",
    "Combined with the possibility of symbolic calculations with *Sympy*, Python offers an environment where students and teachers alike can test many different aspects of mathematics and numerical mathematics, in addition to being able to verify and validate their codes. The following simple example shows how to extend the simple function for computing the numerical derivative with the possibility of obtaining the closed form or analytical expression"
   ]
  },
  {
   "cell_type": "code",
   "execution_count": 2,
   "metadata": {},
   "outputs": [],
   "source": [
    "def differentiate(f, x, h=1E-5, symbolic=False):\n",
    "    if symbolic:\n",
    "        import sympy\n",
    "        return sympy.lambdify([x], sympy.diff(f, x))\n",
    "    else:\n",
    "        return (f(x+h) - f(x-h))/(2*h)"
   ]
  },
  {
   "cell_type": "markdown",
   "metadata": {},
   "source": [
    "## Other Examples\n",
    "**Integration by Trapezoidal Rule.**\n",
    "\n",
    "\n",
    "* Definition of integration  in MAT1100 (Calculus and analysis).\n",
    "\n",
    "* The algorithm for computing the  integral vha the Trapezoidal rule for an interval $x \\in [a,b]$"
   ]
  },
  {
   "cell_type": "markdown",
   "metadata": {},
   "source": [
    "$$\n",
    "\\int_a^b(f(x) dx \\approx \\frac{1}{2}\\left [f(a)+2f(a+h)+\\dots+2f(b-h)+f(b)\\right]\n",
    "$$"
   ]
  },
  {
   "cell_type": "markdown",
   "metadata": {},
   "source": [
    "* Taught   in MAT-INF1100  (Mathematical modelling)\n",
    "\n",
    "* The algorithm is then implemented in  INF1100 (programming course).\n",
    "\n",
    "\n",
    "\n",
    "\n",
    "## Symbolic calculations and numerical calculations in one code\n",
    "Python offers an  extremely versatile programming  environment, allowing for\n",
    "the inclusion of analytical studies in a numerical program. Here we show an\n",
    "example code with the **trapezoidal rule** using **SymPy** to evaluate an integral and compute the absolute error\n",
    "with respect to the numerically evaluated one of the integral\n",
    "$\\int_0^1 dx x^2 = 1/3$.\n",
    "The following code for  the trapezoidal rule allows you  to plot the relative error by comparing with the exact result. By increasing to $10^8$ points one arrives at a region where numerical errors start to accumulate."
   ]
  },
  {
   "cell_type": "code",
   "execution_count": 1,
   "metadata": {},
   "outputs": [
    {
     "data": {
      "image/png": "[encoded data removed]",
      "text/plain": [
       "<Figure size 432x288 with 1 Axes>"
      ]
     },
     "metadata": {},
     "output_type": "display_data"
    }
   ],
   "source": [
    "%matplotlib inline\n",
    "\n",
    "from math import log10\n",
    "import numpy as np\n",
    "from sympy import Symbol, integrate\n",
    "import matplotlib.pyplot as plt\n",
    "# function for the trapezoidal rule\n",
    "def Trapez(a,b,f,n):\n",
    "   h = (b-a)/float(n)\n",
    "   s = 0\n",
    "   x = a\n",
    "   for i in range(1,n,1):\n",
    "       x = x+h\n",
    "       s = s+ f(x)\n",
    "   s = 0.5*(f(a)+f(b)) +s\n",
    "   return h*s\n",
    "#  function to compute pi\n",
    "def function(x):\n",
    "    return x*x\n",
    "# define integration limits\n",
    "a = 0.0;  b = 1.0;\n",
    "# find result from sympy\n",
    "# define x as a symbol to be used by sympy\n",
    "x = Symbol('x')\n",
    "exact = integrate(function(x), (x, a, b))\n",
    "# set up the arrays for plotting the relative error\n",
    "n = np.zeros(9); y = np.zeros(9);\n",
    "# find the relative error as function of integration points\n",
    "for i in range(1, 8, 1):\n",
    "    npts = 10**i\n",
    "    result = Trapez(a,b,function,npts)\n",
    "    RelativeError = abs((exact-result)/exact)\n",
    "    n[i] = log10(npts); y[i] = log10(RelativeError);\n",
    "plt.plot(n,y, 'ro')\n",
    "plt.xlabel('n')\n",
    "plt.ylabel('Relative error')\n",
    "plt.show()"
   ]
  },
  {
   "cell_type": "markdown",
   "metadata": {},
   "source": [
    "## Integrating numerical mathematics with calculus\n",
    "The last example shows the potential of combining numerical algorithms with symbolic calculations, allowing thereby students and teachers to\n",
    "\n",
    "* Validate and verify  their  algorithms. \n",
    "\n",
    "* Including concepts like unit testing, one has the possibility to test and test several or all parts of the code.\n",
    "\n",
    "* Validation and verification are then included *naturally* and one can develop a better attitude to what is meant with an ethically sound scientific approach.\n",
    "\n",
    "* The above example allows the student to also test the mathematical error of the algorithm for the trapezoidal rule by changing the number of integration points. The students get **trained from day one to think error analysis**. \n",
    "\n",
    "* With an Jupyter notebook the students can keep exploring similar examples and turn them in as their own notebooks.\n",
    "\n",
    "\n",
    "\n",
    "\n",
    "\n",
    "## Additional benefits: A structured approach to solving problems\n",
    "In this process we easily bake in\n",
    "1. How to structure a code in terms of functions\n",
    "\n",
    "2. How to make a module\n",
    "\n",
    "3. How to read input data flexibly from the command line\n",
    "\n",
    "4. How to create graphical/web user interfaces\n",
    "\n",
    "5. How to write unit tests (test functions or doctests)\n",
    "\n",
    "6. How to refactor code in terms of classes (instead of functions only)\n",
    "\n",
    "7. How to conduct and automate large-scale numerical experiments\n",
    "\n",
    "8. How to write scientific reports in various formats (LaTeX, HTML)\n",
    "\n",
    "\n",
    "\n",
    "\n",
    "## Additional benefits: A structure approach to solving problems\n",
    "The conventions and techniques outlined here will save you a lot of time when you incrementally extend software over time from simpler to more complicated problems. In particular, you will benefit from many good habits:\n",
    "1. New code is added in a modular fashion to a library (modules)\n",
    "\n",
    "2. Programs are run through convenient user interfaces\n",
    "\n",
    "3. It takes one quick command to let all your code undergo heavy testing \n",
    "\n",
    "4. Tedious manual work with running programs is automated,\n",
    "\n",
    "5. Your scientific investigations are reproducible, scientific reports with top quality typesetting are produced both for paper and electronic devices.\n",
    "\n",
    "\n",
    "\n",
    "\n",
    "\n",
    "\n",
    "\n",
    "## Learning outcomes three first semesters\n",
    "**Knowledge of basic algorithms.**\n",
    "\n",
    "\n",
    "* Differential equations: Euler, modified Euler and Runge-Kutta methods (first semester)\n",
    "\n",
    "* Numerical integration: Trapezoidal and Simpson's rule, multidimensional integrals (first semester)\n",
    "\n",
    "* Random numbers, random walks, probability distributions and Monte Carlo integration  (first semester)\n",
    "\n",
    "* Linear Algebra and eigenvalue problems: Gaussian elimination, LU-decomposition, SVD, QR, Givens rotations and eigenvalues, Gauss-Seidel. (second and third semester)\n",
    "\n",
    "* Root finding and interpolation etc. (all three first semesters)\n",
    "\n",
    "* Processing of sound and images (first semester).\n",
    "\n",
    "The students have to code several of these algorithms during the first three semesters.\n",
    "\n",
    "\n",
    "\n",
    "## Examples of simple algorithms, initial value problems and proper scaling of equations\n",
    "1. Ordinary differential equations (ODE): RLC circuit\n",
    "\n",
    "2. ODE: Classical pendulum\n",
    "\n",
    "3. ODE: Solar system\n",
    "\n",
    "4. and many more cases\n",
    "\n",
    "Can use essentially the **same algorithms to solve these problems**, either some simple modified Euler algorithms or some Runge-Kutta class of algorithms or perhaps the so-called Verlet class of algorithms.  **Algorithms students use in one course can be reused in other courses**.\n",
    "\n",
    "\n",
    "\n",
    "\n",
    "\n",
    "## Mechanics and electromagnetism, initial value problems\n",
    "**When properly scaled, these equations are essentially the same. Scaling is important.**\n",
    "\n",
    "\n",
    "Classical pendulum with damping and external force as it could appear in a mechanics course (FYS-MEK1100, PHY 321)"
   ]
  },
  {
   "cell_type": "markdown",
   "metadata": {},
   "source": [
    "$$\n",
    "ml\\frac{d^2\\theta}{dt^2}+\\nu\\frac{d\\theta}{dt}  +mgsin(\\theta)=Acos(\\omega t).\n",
    "$$"
   ]
  },
  {
   "cell_type": "markdown",
   "metadata": {},
   "source": [
    "Easy to solve numerically and then visualize the solution.\n",
    "Almost the same equation for an RLC circuit in the electromagnetism course (PHY 482/FYS1120)"
   ]
  },
  {
   "cell_type": "markdown",
   "metadata": {},
   "source": [
    "$$\n",
    "L\\frac{d^2Q}{dt^2}+\\frac{Q}{C}+R\\frac{dQ}{dt}=Acos(\\omega t).\n",
    "$$"
   ]
  },
  {
   "cell_type": "markdown",
   "metadata": {},
   "source": [
    "## Mechanics and electromagnetism, initial value problems and now proper scaling\n",
    "\n",
    "Classical pendulum equations with damping and external force"
   ]
  },
  {
   "cell_type": "markdown",
   "metadata": {},
   "source": [
    "$$\n",
    "\\frac{d\\theta}{d\\hat{t}} =\\hat{v},\n",
    "$$"
   ]
  },
  {
   "cell_type": "markdown",
   "metadata": {},
   "source": [
    "and"
   ]
  },
  {
   "cell_type": "markdown",
   "metadata": {},
   "source": [
    "$$\n",
    "\\frac{d\\hat{v}}{d\\hat{t}} =Acos(\\hat{\\omega} \\hat{t})-\\hat{v}\\xi-\\sin(\\theta),\n",
    "$$"
   ]
  },
  {
   "cell_type": "markdown",
   "metadata": {},
   "source": [
    "with $\\omega_0=\\sqrt{g/l}$, $\\hat{t}=\\omega_0 t$ and $\\xi = mg/\\omega_0\\nu$.\n",
    "\n",
    "The RLC circuit"
   ]
  },
  {
   "cell_type": "markdown",
   "metadata": {},
   "source": [
    "$$\n",
    "\\frac{dQ}{d\\hat{t}} =\\hat{I},\n",
    "$$"
   ]
  },
  {
   "cell_type": "markdown",
   "metadata": {},
   "source": [
    "and"
   ]
  },
  {
   "cell_type": "markdown",
   "metadata": {},
   "source": [
    "$$\n",
    "\\frac{d\\hat{I}}{d\\hat{t}} =Acos(\\hat{\\omega} \\hat{t})-\\hat{I}\\xi-Q,\n",
    "$$"
   ]
  },
  {
   "cell_type": "markdown",
   "metadata": {},
   "source": [
    "with $\\omega_0=1/\\sqrt{LC}$, $\\hat{t}=\\omega_0 t$ and $\\xi = CR\\omega_0$.\n",
    "\n",
    "The equations are essentially the same. **Great potential for abstraction**.\n",
    "\n",
    "\n",
    "\n",
    "\n",
    "\n",
    "\n",
    "## Other examples of simple algorithms that can be reused in many courses, two-point boundary value problems and scaling\n",
    "These physics examples can all be studied using almost the same types of algorithms, simple eigenvalue solvers and Gaussian elimination with the same starting matrix!\n",
    "\n",
    "1. A buckling beam and Toeplitz matrices (mechanics and mathematical methods), eigenvalue problems\n",
    "\n",
    "2. A particle in an infinite potential well, quantum eigenvalue problems\n",
    "\n",
    "3. A particle (or two) in a general quantum well, quantum eigenvalue problems\n",
    "\n",
    "4. Poisson's  equation in one dim, linear algebra (electromagnetism)\n",
    "\n",
    "5. The diffusion equation in one dimension (Statistical Physics), linear algebra\n",
    "\n",
    "6. and many other cases\n",
    "\n",
    "\n",
    "\n",
    "\n",
    "\n",
    "## A buckling beam, or a quantum mechanical particle in an infinite well\n",
    "This is a two-point boundary value problem"
   ]
  },
  {
   "cell_type": "markdown",
   "metadata": {},
   "source": [
    "$$\n",
    "R \\frac{d^2 u(x)}{dx^2} = -F u(x),\n",
    "$$"
   ]
  },
  {
   "cell_type": "markdown",
   "metadata": {},
   "source": [
    "where $u(x)$ is the vertical displacement, $R$ is a material specific constant, $F$ the force and $x \\in [0,L]$ with $u(0)=u(L)=0$.\n",
    "\n",
    "Scale equations with $x = \\rho L$ and $\\rho \\in [0,1]$ and get (note that we change from $u(x)$ to $v(\\rho)$)"
   ]
  },
  {
   "cell_type": "markdown",
   "metadata": {},
   "source": [
    "$$\n",
    "\\frac{d^2 v(\\rho)}{dx^2} +K v(\\rho)=0,\n",
    "$$"
   ]
  },
  {
   "cell_type": "markdown",
   "metadata": {},
   "source": [
    "a standard eigenvalue problem with $K= FL^2/R$.\n",
    "\n",
    "If you replace $R=-\\hbar^2/2m$ and $-F=\\lambda$, we have the quantum mechanical variant for a particle moving in a well with infinite walls at the endpoints.\n",
    "\n",
    "\n",
    "\n",
    "## Discretize and get the same type of problem\n",
    "Discretize the second derivative and the rhs"
   ]
  },
  {
   "cell_type": "markdown",
   "metadata": {},
   "source": [
    "$$\n",
    "-\\frac{v_{i+1} -2v_i +v_{i-i}}{h^2}=\\lambda v_i,\n",
    "$$"
   ]
  },
  {
   "cell_type": "markdown",
   "metadata": {},
   "source": [
    "with $i=1,2,\\dots, n$. We need to add to this system the two boundary conditions $v(0) =v_0$ and $v(1) = v_{n+1}$.\n",
    "The so-called Toeplitz matrix (special case from the discretized second derivative)"
   ]
  },
  {
   "cell_type": "markdown",
   "metadata": {},
   "source": [
    "$$\n",
    "\\mathbf{A} = \\frac{1}{h^2}\\begin{bmatrix}\n",
    "                          2 & -1 &  &   &  & \\\\\n",
    "                          -1 & 2 & -1 & & & \\\\\n",
    "                           & -1 & 2 & -1 & &  \\\\\n",
    "                           & \\dots   & \\dots &\\dots   &\\dots & \\dots \\\\\n",
    "                           &   &  &-1  &2& -1 \\\\\n",
    "                           &    &  &   &-1 & 2 \\\\\n",
    "                      \\end{bmatrix}\n",
    "$$"
   ]
  },
  {
   "cell_type": "markdown",
   "metadata": {},
   "source": [
    "with the corresponding vectors $\\mathbf{v} = (v_1, v_2, \\dots,v_n)^T$ allows us to rewrite the differential equation\n",
    "including the boundary conditions as a standard eigenvalue problem"
   ]
  },
  {
   "cell_type": "markdown",
   "metadata": {},
   "source": [
    "$$\n",
    "\\mathbf{A}\\mathbf{u} = \\lambda\\mathbf{v}.\n",
    "$$"
   ]
  },
  {
   "cell_type": "markdown",
   "metadata": {},
   "source": [
    "The Toeplitz matrix has analytical eigenpairs!! Adding a potential along the diagonals allows us to reuse this problem for many types of physics cases.\n",
    "\n",
    "\n",
    "\n",
    "\n",
    "## Adding complexity, hydrogen-like atoms or other one-particle potentials\n",
    "We are first interested in the solution of the radial part of Schroedinger's equation for one electron. This equation reads"
   ]
  },
  {
   "cell_type": "markdown",
   "metadata": {},
   "source": [
    "$$\n",
    "-\\frac{\\hbar^2}{2 m} \\left ( \\frac{1}{r^2} \\frac{d}{dr} r^2\n",
    "  \\frac{d}{dr} - \\frac{l (l + 1)}{r^2} \\right )R(r)\n",
    "     + V(r) R(r) = E R(r).\n",
    "$$"
   ]
  },
  {
   "cell_type": "markdown",
   "metadata": {},
   "source": [
    "Suppose in our  case $V(r)$ is the harmonic oscillator potential $(1/2)kr^2$ with\n",
    "$k=m\\omega^2$ and $E$ is\n",
    "the energy of the harmonic oscillator in three dimensions.\n",
    "The oscillator frequency is $\\omega$ and the energies are"
   ]
  },
  {
   "cell_type": "markdown",
   "metadata": {},
   "source": [
    "$$\n",
    "E_{nl}=  \\hbar \\omega \\left(2n+l+\\frac{3}{2}\\right),\n",
    "$$"
   ]
  },
  {
   "cell_type": "markdown",
   "metadata": {},
   "source": [
    "with $n=0,1,2,\\dots$ and $l=0,1,2,\\dots$.\n",
    "\n",
    "\n",
    "\n",
    "\n",
    "## Radial Schroedinger equation\n",
    "Since we have made a transformation to spherical coordinates it means that\n",
    "$r\\in [0,\\infty)$.\n",
    "The quantum number\n",
    "$l$ is the orbital momentum of the electron.   Then we substitute $R(r) = (1/r) u(r)$ and obtain"
   ]
  },
  {
   "cell_type": "markdown",
   "metadata": {},
   "source": [
    "$$\n",
    "-\\frac{\\hbar^2}{2 m} \\frac{d^2}{dr^2} u(r)\n",
    "       + \\left ( V(r) + \\frac{l (l + 1)}{r^2}\\frac{\\hbar^2}{2 m}\n",
    "                                    \\right ) u(r)  = E u(r) .\n",
    "$$"
   ]
  },
  {
   "cell_type": "markdown",
   "metadata": {},
   "source": [
    "The boundary conditions are $u(0)=0$ and $u(\\infty)=0$.\n",
    "\n",
    "\n",
    "\n",
    "\n",
    "## Scaling the equations\n",
    "We introduce a dimensionless variable $\\rho = (1/\\alpha) r$\n",
    "where $\\alpha$ is a constant with dimension length and get"
   ]
  },
  {
   "cell_type": "markdown",
   "metadata": {},
   "source": [
    "$$\n",
    "-\\frac{\\hbar^2}{2 m \\alpha^2} \\frac{d^2}{d\\rho^2} v(\\rho)\n",
    "       + \\left ( V(\\rho) + \\frac{l (l + 1)}{\\rho^2}\n",
    "         \\frac{\\hbar^2}{2 m\\alpha^2} \\right ) v(\\rho)  = E v(\\rho) .\n",
    "$$"
   ]
  },
  {
   "cell_type": "markdown",
   "metadata": {},
   "source": [
    "Let us choose $l=0$.\n",
    "Inserting $V(\\rho) = (1/2) k \\alpha^2\\rho^2$ we end up with"
   ]
  },
  {
   "cell_type": "markdown",
   "metadata": {},
   "source": [
    "$$\n",
    "-\\frac{\\hbar^2}{2 m \\alpha^2} \\frac{d^2}{d\\rho^2} v(\\rho)\n",
    "       + \\frac{k}{2} \\alpha^2\\rho^2v(\\rho)  = E v(\\rho) .\n",
    "$$"
   ]
  },
  {
   "cell_type": "markdown",
   "metadata": {},
   "source": [
    "We multiply thereafter with $2m\\alpha^2/\\hbar^2$ on both sides and obtain"
   ]
  },
  {
   "cell_type": "markdown",
   "metadata": {},
   "source": [
    "$$\n",
    "-\\frac{d^2}{d\\rho^2} v(\\rho)\n",
    "       + \\frac{mk}{\\hbar^2} \\alpha^4\\rho^2v(\\rho)  = \\frac{2m\\alpha^2}{\\hbar^2}E v(\\rho) .\n",
    "$$"
   ]
  },
  {
   "cell_type": "markdown",
   "metadata": {},
   "source": [
    "## A natural length scale comes out automagically when scaling\n",
    "We have thus"
   ]
  },
  {
   "cell_type": "markdown",
   "metadata": {},
   "source": [
    "$$\n",
    "-\\frac{d^2}{d\\rho^2} v(\\rho)\n",
    "       + \\frac{mk}{\\hbar^2} \\alpha^4\\rho^2v(\\rho)  = \\frac{2m\\alpha^2}{\\hbar^2}E v(\\rho) .\n",
    "$$"
   ]
  },
  {
   "cell_type": "markdown",
   "metadata": {},
   "source": [
    "The constant $\\alpha$ can now be fixed\n",
    "so that"
   ]
  },
  {
   "cell_type": "markdown",
   "metadata": {},
   "source": [
    "$$\n",
    "\\frac{mk}{\\hbar^2} \\alpha^4 = 1,\n",
    "$$"
   ]
  },
  {
   "cell_type": "markdown",
   "metadata": {},
   "source": [
    "and it defines a natural length scale (like the Bohr radius does)"
   ]
  },
  {
   "cell_type": "markdown",
   "metadata": {},
   "source": [
    "$$\n",
    "\\alpha = \\left(\\frac{\\hbar^2}{mk}\\right)^{1/4}.\n",
    "$$"
   ]
  },
  {
   "cell_type": "markdown",
   "metadata": {},
   "source": [
    "Defining"
   ]
  },
  {
   "cell_type": "markdown",
   "metadata": {},
   "source": [
    "$$\n",
    "\\lambda = \\frac{2m\\alpha^2}{\\hbar^2}E,\n",
    "$$"
   ]
  },
  {
   "cell_type": "markdown",
   "metadata": {},
   "source": [
    "we can rewrite Schroedinger's equation as"
   ]
  },
  {
   "cell_type": "markdown",
   "metadata": {},
   "source": [
    "$$\n",
    "-\\frac{d^2}{d\\rho^2} v(\\rho) + \\rho^2v(\\rho)  = \\lambda v(\\rho) .\n",
    "$$"
   ]
  },
  {
   "cell_type": "markdown",
   "metadata": {},
   "source": [
    "This is similar to the equation for a buckling beam except for the potential term.\n",
    "In three dimensions\n",
    "the eigenvalues for $l=0$ are\n",
    "$\\lambda_0=1.5,\\lambda_1=3.5,\\lambda_2=5.5,\\dots .$\n",
    "\n",
    "\n",
    "\n",
    "\n",
    "\n",
    "## Discretizing\n",
    "Define first the diagonal matrix element"
   ]
  },
  {
   "cell_type": "markdown",
   "metadata": {},
   "source": [
    "$$\n",
    "d_i=\\frac{2}{h^2}+V_i,\n",
    "$$"
   ]
  },
  {
   "cell_type": "markdown",
   "metadata": {},
   "source": [
    "and the non-diagonal matrix element"
   ]
  },
  {
   "cell_type": "markdown",
   "metadata": {},
   "source": [
    "$$\n",
    "e_i=-\\frac{1}{h^2}.\n",
    "$$"
   ]
  },
  {
   "cell_type": "markdown",
   "metadata": {},
   "source": [
    "In this case the non-diagonal matrix elements are given by a mere constant. *All non-diagonal matrix elements are equal*.\n",
    "\n",
    "With these definitions the Schroedinger equation takes the following form"
   ]
  },
  {
   "cell_type": "markdown",
   "metadata": {},
   "source": [
    "$$\n",
    "d_iu_i+e_{i-1}v_{i-1}+e_{i+1}v_{i+1}  = \\lambda v_i,\n",
    "$$"
   ]
  },
  {
   "cell_type": "markdown",
   "metadata": {},
   "source": [
    "where $v_i$ is unknown. We can write the\n",
    "latter equation as a matrix eigenvalue problem"
   ]
  },
  {
   "cell_type": "markdown",
   "metadata": {},
   "source": [
    "<!-- Equation labels as ordinary links -->\n",
    "<div id=\"eq:sematrix\"></div>\n",
    "\n",
    "$$\n",
    "\\begin{equation}\n",
    "    \\begin{bmatrix} d_1 & e_1 & 0   & 0    & \\dots  &0     & 0 \\\\\n",
    "                                e_1 & d_2 & e_2 & 0    & \\dots  &0     &0 \\\\\n",
    "                                0   & e_2 & d_3 & e_3  &0       &\\dots & 0\\\\\n",
    "                                \\dots  & \\dots & \\dots & \\dots  &\\dots      &\\dots & \\dots\\\\\n",
    "                                0   & \\dots & \\dots & \\dots  &\\dots       &d_{n_{\\mathrm{step}}-2} & e_{n_{\\mathrm{step}}-1}\\\\\n",
    "                                0   & \\dots & \\dots & \\dots  &\\dots       &e_{n_{\\mathrm{step}}-1} & d_{n_{\\mathrm{step}}-1}\n",
    "             \\end{bmatrix}      \\begin{bmatrix} v_{1} \\\\\n",
    "                                                              v_{2} \\\\\n",
    "                                                              \\dots\\\\ \\dots\\\\ \\dots\\\\\n",
    "                                                              v_{n_{\\mathrm{step}}-1}\n",
    "             \\end{bmatrix}=\\lambda \\begin{bmatrix}{c} v_{1} \\\\\n",
    "                                                              v_{2} \\\\\n",
    "                                                              \\dots\\\\ \\dots\\\\ \\dots\\\\\n",
    "                                                              v_{n_{\\mathrm{step}}-1}\n",
    "             \\end{bmatrix}\n",
    "\\label{eq:sematrix} \\tag{1}\n",
    "\\end{equation}\n",
    "$$"
   ]
  },
  {
   "cell_type": "markdown",
   "metadata": {},
   "source": [
    "or if we wish to be more detailed, we can write the tridiagonal matrix as"
   ]
  },
  {
   "cell_type": "markdown",
   "metadata": {},
   "source": [
    "<!-- Equation labels as ordinary links -->\n",
    "<div id=\"eq:matrixse\"></div>\n",
    "\n",
    "$$\n",
    "\\begin{equation}\n",
    "    \\left( \\begin{array}{ccccccc} \\frac{2}{h^2}+V_1 & -\\frac{1}{h^2} & 0   & 0    & \\dots  &0     & 0 \\\\\n",
    "                                -\\frac{1}{h^2} & \\frac{2}{h^2}+V_2 & -\\frac{1}{h^2} & 0    & \\dots  &0     &0 \\\\\n",
    "                                0   & -\\frac{1}{h^2} & \\frac{2}{h^2}+V_3 & -\\frac{1}{h^2}  &0       &\\dots & 0\\\\\n",
    "                                \\dots  & \\dots & \\dots & \\dots  &\\dots      &\\dots & \\dots\\\\\n",
    "                                0   & \\dots & \\dots & \\dots  &\\dots       &\\frac{2}{h^2}+V_{n_{\\mathrm{step}}-2} & -\\frac{1}{h^2}\\\\\n",
    "                                0   & \\dots & \\dots & \\dots  &\\dots       &-\\frac{1}{h^2} & \\frac{2}{h^2}+V_{n_{\\mathrm{step}}-1}\n",
    "             \\end{array} \\right)\n",
    "\\label{eq:matrixse} \\tag{2}\n",
    "\\end{equation}\n",
    "$$"
   ]
  },
  {
   "cell_type": "markdown",
   "metadata": {},
   "source": [
    "Recall that the solutions are known via the boundary conditions at\n",
    "$i=n_{\\mathrm{step}}$ and at the other end point, that is for  $\\rho_0$.\n",
    "The solution is zero in both cases.\n",
    "\n",
    "\n",
    "\n",
    "\n",
    "## The Python  code\n",
    "The code sets up the Hamiltonian matrix by defining the minimun and maximum values of $r$ with a\n",
    "maximum value of integration points. It plots the\n",
    "eigenfunctions of the three lowest eigenstates."
   ]
  },
  {
   "cell_type": "code",
   "execution_count": 4,
   "metadata": {},
   "outputs": [
    {
     "name": "stdout",
     "output_type": "stream",
     "text": [
      "0.03934776959919009\n",
      "0.18738804955934452\n",
      "0.4341117535451493\n"
     ]
    },
    {
     "data": {
      "image/png": "[encoded data removed]",
      "text/plain": [
       "<Figure size 432x288 with 1 Axes>"
      ]
     },
     "metadata": {},
     "output_type": "display_data"
    }
   ],
   "source": [
    "#Program which solves the one-particle Schrodinger equation\n",
    "#for a potential specified in function\n",
    "#potential().\n",
    "\n",
    "from  matplotlib import pyplot as plt\n",
    "import numpy as np\n",
    "#Function for initialization of parameters\n",
    "def initialize():\n",
    "    RMin = 0.0\n",
    "    RMax = 10.0\n",
    "    lOrbital = 0\n",
    "    Dim = 400\n",
    "    return RMin, RMax, lOrbital, Dim\n",
    "# Different types of potentials\n",
    "def potential(r):\n",
    "    #return 0.5*r*r\n",
    "    #  return 0.0\n",
    "    #  return -1.0/r\n",
    "    if r >= 0.0 and r <= 10.0:\n",
    "        V = -0.01\n",
    "    else:\n",
    "        V =0.0\n",
    "    return V\n",
    "\n",
    "#Get the boundary, orbital momentum and number of integration points\n",
    "RMin, RMax, lOrbital, Dim = initialize()\n",
    "\n",
    "#Initialize constants\n",
    "Step    = RMax/(Dim+1)\n",
    "DiagConst = 1.0/ (Step*Step)\n",
    "NondiagConst =  -0.5 / (Step*Step)\n",
    "OrbitalFactor = 0.5*lOrbital * (lOrbital + 1.0)\n",
    "\n",
    "#Calculate array of potential values\n",
    "v = np.zeros(Dim)\n",
    "r = np.linspace(RMin,RMax,Dim)\n",
    "for i in range(Dim):\n",
    "    r[i] = RMin + (i+1) * Step;\n",
    "    v[i] = potential(r[i]) + OrbitalFactor/(r[i]*r[i]);\n",
    "\n",
    "#Setting up a tridiagonal matrix and finding eigenvectors and eigenvalues\n",
    "Matrix = np.zeros((Dim,Dim))\n",
    "Matrix[0,0] = DiagConst + v[0];\n",
    "Matrix[0,1] = NondiagConst;\n",
    "for i in range(1,Dim-1):\n",
    "    Matrix[i,i-1]  = NondiagConst;\n",
    "    Matrix[i,i]    = DiagConst + v[i];\n",
    "    Matrix[i,i+1]  = NondiagConst;\n",
    "Matrix[Dim-1,Dim-2] = NondiagConst;\n",
    "Matrix[Dim-1,Dim-1] = DiagConst + v[Dim-1];\n",
    "# diagonalize and obtain eigenvalues, not necessarily sorted\n",
    "EigValues, EigVectors = np.linalg.eig(Matrix)\n",
    "# sort eigenvectors and eigenvalues\n",
    "permute = EigValues.argsort()\n",
    "EigValues = EigValues[permute]\n",
    "EigVectors = EigVectors[:,permute]\n",
    "# now plot the results for the three lowest lying eigenstates\n",
    "for i in range(3):\n",
    "    print(EigValues[i])\n",
    "FirstEigvector = EigVectors[:,0]\n",
    "SecondEigvector = EigVectors[:,1]\n",
    "ThirdEigvector = EigVectors[:,2]\n",
    "plt.plot(r, FirstEigvector**2 ,'b-',r, SecondEigvector**2 ,'g-',r, ThirdEigvector**2 ,'r-')\n",
    "plt.axis([0,RMax,0.0, 0.025])\n",
    "plt.xlabel(r'$r$')\n",
    "plt.ylabel(r'Radial probability $r^2|R(r)|^2$')\n",
    "plt.title(r'Radial probability distributions for three lowest-lying states')\n",
    "plt.savefig('eigenvector.pdf')\n",
    "plt.show()"
   ]
  },
  {
   "cell_type": "markdown",
   "metadata": {},
   "source": [
    "## The power of numerical methods\n",
    "The last example shows the potential of combining numerical algorithms with analytical results (or eventually symbolic calculations), allowing thereby students and teachers to\n",
    "\n",
    "* make abstraction and explore other physics cases easily where no analytical solutions are known\n",
    "\n",
    "* Validate and verify  their  algorithms.\n",
    "\n",
    "* Including concepts like unit testing, one has the possibility to test and validate several or all parts of the code.\n",
    "\n",
    "* Validation and verification are then included *naturally* and one can develop a better attitude to what is meant with an ethically sound scientific approach.\n",
    "\n",
    "* The above example allows the student to also test the mathematical error of the algorithm for the eigenvalue solver by changing the number of integration points. The students get trained from day one to think error analysis.\n",
    "\n",
    "* The algorithm can be tailored to any kind of one-particle problem used in quantum mechanics or eigenvalue problems\n",
    "\n",
    "* A simple rewrite allows for reuse in linear algebra problems for solution of say Poisson's equation in electromagnetism, or the diffusion equation in one dimension.\n",
    "\n",
    "* With an ipython notebook the students can keep exploring similar examples and turn them in as their own notebooks.\n",
    "\n",
    "\n",
    "\n",
    "\n",
    "\n",
    "## Later courses\n",
    "\n",
    "**Later courses should build on this foundation as much as possible**.\n",
    "\n",
    "1. In particular, the course should not be too basic! There should be progression in the use of mathematics, numerical methods and programming, as well as science.\n",
    "\n",
    "2. Computational platform: Python, fully object-oriented and allows for seamless integration of c++ and Fortran codes, as well as Matlab-like programming environment. Makes it easy to parallelize codes as well.\n",
    "\n",
    "\n",
    "\n",
    "## Coordination\n",
    "* Teachers in other courses need therefore not use much time on numerical tools. Naturally included in other courses.\n",
    "\n",
    "\n",
    "\n",
    "\n",
    "## Challenges...\n",
    "**.. and objections.**\n",
    "\n",
    "\n",
    "*Standard objection: computations take away the attention from other central topics in 'my course'*. \n",
    "\n",
    "CSE incorporates computations from day one, and courses higher up do not need to\n",
    "spend time on computational topics  (technicalities), but can focus on the interesting\n",
    "science applications.  Coordination and synchronization across departments and courses. Increases collaboration on teaching and awareness of pedagical research.\n",
    "\n",
    "* To help teachers: Developed pedagogical modules which can aid university teachers. Own course for teachers.\n",
    "\n",
    "\n",
    "\n",
    "\n",
    "\n",
    "\n",
    "\n",
    "\n",
    "\n",
    "\n",
    "## Which aspects are important for a successful introduction of CSE?\n",
    "\n",
    "* Early introduction, programming course at beginning of studies linked with math courses and science and engineering courses.\n",
    "\n",
    "* Crucial to learn proper programming at the beginning.\n",
    "\n",
    "* Good TAs\n",
    "\n",
    "* Choice of software.\n",
    "\n",
    "* Textbooks and modularization of topics (ask for details). Development of new learning material and assessment program\n",
    "\n",
    "* Resources and expenses.\n",
    "\n",
    "* Tailor to specific disciplines.\n",
    "\n",
    "* Organizational matters. \n",
    "\n",
    "* Collaboration across disciplines.\n",
    "\n",
    "* Research on Science Education and the role of computing in Science Education\n",
    "\n",
    "\n",
    "\n",
    "\n",
    "## CSE Summary\n",
    "\n",
    "* Make our research visible in early undergraduate courses, enhance research based teaching\n",
    "\n",
    "* Possibility to focus more on understanding and increased insight.\n",
    "\n",
    "* Impetus for broad cooperation in teaching. Broad focus on university pedagogical topics.\n",
    "\n",
    "* Strengthening of instruction based teaching (expensive and time-consuming).\n",
    "\n",
    "* Give our candidates a broader and more up-to-date education with a problem-based orientation, often requested by potential employers.\n",
    "\n",
    "* And perhaps the most important issue: does this enhance the student's insight in the Sciences?\n",
    "\n",
    "We invite you to visit (online and/or in real life) our new center on [Computing in Science Education](http://www.mn.uio.no/ccse/english/)\n",
    "\n",
    "\n",
    "\n",
    "\n",
    "## Summary: New Master of Science programs\n",
    "The two new Master of Science programs \n",
    "\n",
    "* [Computational Science](https://www.uio.no/english/studies/programmes/computational-science-master/index.html)\n",
    "\n",
    "* [Data Science](https://www.uio.no/english/studies/programmes/datascience-master/index.html) \n",
    "\n",
    "are a direct consequence of the [Computing in Science Education project](https://www.mn.uio.no/ccse/english/), which has aimed at a full integration and coordination of computational methods in basic undergrad natural science programs.\n",
    "\n",
    "We are planning new undergraduate programs in Computational Science and Data Science, as well as cross-disciplinary programs at all levels.\n",
    "\n",
    "\n",
    "\n",
    "## Summary: Research\n",
    "\n",
    "**We give students an education relevant for many exciting future research directions.**\n",
    "\n",
    "* Computational Science and Data Science in Mathematics and all of the physical sciences (Astrophysics, Chemistry, Geoscience and Physics)\n",
    "\n",
    "* Bioinformatics\n",
    "\n",
    "* Develop research programs in [Quantum Computing and Quantum Information theory](https://www.aps.org/publications/apsnews/201802/ostp.cfm?utm_source=APS+Physics+Main+Group&utm_campaign=fb7a2e7d6b-News+021218&utm_medium=email&utm_term=0_825303224b-fb7a2e7d6b-106513221). Many universities are now developing research and [educational strategies in Quantum Computing](https://vprgs.msu.edu/event/interdisciplinary-forum-quantum-information-science)\n",
    "\n",
    "* Develop data-driven discovery research programs utilizing recent developments in machine learning\n",
    "\n",
    "* Computational life science\n",
    "\n",
    "* Computational Materials Science\n",
    "\n",
    "* Computational Economy and Data Science and computing in Law and the Social Sciences\n",
    "\n",
    "* Data Science and computing in the Humanities\n",
    "\n",
    "* And many more"
   ]
  }
 ],
 "metadata": {
  "kernelspec": {
   "display_name": "Python 3",
   "language": "python",
   "name": "python3"
  },
  "language_info": {
   "codemirror_mode": {
    "name": "ipython",
    "version": 3
   },
   "file_extension": ".py",
   "mimetype": "text/x-python",
   "name": "python",
   "nbconvert_exporter": "python",
   "pygments_lexer": "ipython3",
   "version": "3.7.0"
  }
 },
 "nbformat": 4,
 "nbformat_minor": 2
}
