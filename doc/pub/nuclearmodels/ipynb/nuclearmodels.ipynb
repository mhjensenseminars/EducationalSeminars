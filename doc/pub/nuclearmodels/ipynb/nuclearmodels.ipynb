{
 "cells": [
  {
   "cell_type": "markdown",
   "metadata": {},
   "source": [
    "<!-- dom:TITLE: Nuclear Models -->\n",
    "# Nuclear Models\n",
    "<!-- dom:AUTHOR: Morten Hjorth-Jensen at [National Superconducting Cyclotron Laboratory](http://www.nscl.msu.edu/) and [Department of Physics and Astronomy](https://www.pa.msu.edu/), [Michigan State University](http://www.msu.edu/), East Lansing, MI 48824, USA -->\n",
    "<!-- Author: -->  \n",
    "**Morten Hjorth-Jensen**, [National Superconducting Cyclotron Laboratory](http://www.nscl.msu.edu/) and [Department of Physics and Astronomy](https://www.pa.msu.edu/), [Michigan State University](http://www.msu.edu/), East Lansing, MI 48824, USA\n",
    "\n",
    "Date: **NS3 Nuclear Physics Summer School 2019**\n",
    "\n",
    "<!-- !split  -->\n",
    "## Stability of matter\n",
    "To understand why matter is stable, and thereby shed light on the limits of \n",
    "nuclear stability, is one of the \n",
    "overarching aims and intellectual challenges \n",
    "of basic research in nuclear physics. To relate the stability of matter\n",
    "to the underlying fundamental forces and particles of nature as manifested in nuclear matter, is central\n",
    "to present and planned rare isotope facilities.\n",
    "\n",
    "\n",
    "\n",
    "Important properties of nuclear systems which can reveal information about these topics \n",
    "are for example masses, and thereby binding energies, and density distributions of nuclei.  \n",
    "These are quantities which convey important information on \n",
    "the shell structure of nuclei, with their \n",
    "pertinent magic numbers and shell closures or the  eventual disappearence of the latter \n",
    "away from  the valley of stability.\n",
    "\n",
    "\n",
    "\n",
    "## Motivation and the many scales of the nuclear many-body problem\n",
    "To understand nuclei and nuclear matter theoretically means\n",
    "* Understand how the laws of motion and  the fundamental forces at play govern the **nuclear world**\n",
    "\n",
    "* Quantum Chromodynamics with quarks and gluons is the model for the strong force\n",
    "\n",
    "* The degrees of freedom from quarks and gluons are too complicated for an *effective* theoretical study of nuclei and nuclear matter\n",
    "\n",
    "* Effective degrees of freedom (*dof*) in terms of protons, neutrons and selected mesons like pions. These *dof* lead to an effective field theory for the nuclear forces \n",
    "\n",
    "* Solve the nuclear many-body problem using various mathematical algorithms, large scale diagonalization, renormalization techniques, quantum computing, machine learning, lattice quantum chromodynamics etc etc. The math spans from eigenvalue problems to stochastic modeling.\n",
    "\n",
    "\n",
    "\n",
    "## Where to find the material\n",
    "The Jupyter Notebook is at the link <https://github.com/mhjensenseminars/EducationalSeminars/tree/master/doc/pub/nuclearmodels/ipynb>\n",
    "\n",
    "The material in various formats (jupyter notebooks, various html and pdf formats) is at <http://mhjensenseminars.github.io/EducationalSeminars/doc/web/overview.html>\n",
    "\n",
    "The main Github address for all material is at <https://github.com/mhjensenseminars/EducationalSeminars>\n",
    "\n",
    "Feel free to use this material as you wish.\n",
    "\n",
    "\n",
    "\n",
    "\n",
    "## The nuclear many-body problem, where do we start?\n",
    "During this summer school you will meet several of the above theoretical approaches to understand nuclei from a bottom-up type of approach\n",
    "(lectures of Brown, Lee and Nunes).\n",
    "\n",
    "The aim here is provide you with the starting point for modeling nuclei and nuclear matter.\n",
    "\n",
    "\n",
    "\n",
    "Where we do start from? \n",
    "Our main ansatz for a many-body wave function starts with a product of single-particle wave function. \n",
    "* What is the rationale for doing so? \n",
    "\n",
    "* And what kind of data do we have which motivates this? Hint: Think of the periodic system of atoms\n",
    "\n",
    "\n",
    "\n",
    "\n",
    "\n",
    "<!-- !split  -->\n",
    "## Drip lines\n",
    "\n",
    "Neutron (or proton)-rich nuclei are particularly interesting. As a particular chain\n",
    "of isotopes (isotones) becomes more and more neutron (proton) rich, one reaches finally the limit of stability, the so-called\n",
    "dripline, where one additional neutron (proton) makes the next isotope (isotone)  unstable with respect \n",
    "to the previous ones.\n",
    "\n",
    "\n",
    "\n",
    "The appearence or not of magic numbers and shell structures,\n",
    "the formation of for example neutron skins and halos\n",
    "can thence be probed via investigations of quantities like  the binding energy\n",
    "or the charge radii and neutron rms radii of neutron-rich nuclei. \n",
    "These quantities have in turn important \n",
    "consequences for theoretical models of nuclear structure and their application in astrophysics.\n",
    "\n",
    "\n",
    "\n",
    "\n",
    "<!-- !split  -->\n",
    "## FRIB limits for the chain of calcium isotopes\n",
    "\n",
    "<!-- dom:FIGURE: [figslides/careach.png, width=500 frac=0.6] Expected experimental information on the calcium isotopes that can be obtained at FRIB. The limits for detailed spectroscopic information are around $A\\sim 60$. -->\n",
    "<!-- begin figure -->\n",
    "\n",
    "<p>Expected experimental information on the calcium isotopes that can be obtained at FRIB. The limits for detailed spectroscopic information are around $A\\sim 60$.</p>\n",
    "<img src=\"figslides/careach.png\" width=500>\n",
    "\n",
    "<!-- end figure -->\n",
    "\n",
    "\n",
    "\n",
    "\n",
    "<!-- !split  -->\n",
    "## More on [Neutron-rich nuclei](http://iopscience.iop.org/1402-4896/2013/T152)\n",
    "The neutron radius of ${}^{208}\\mbox{Pb}$, recently extracted from the PREX \n",
    "experiment at Jefferson Laboratory  can be used to constrain the equation of state of \n",
    "neutron matter.\n",
    "\n",
    "\n",
    "\n",
    "A related quantity to the\n",
    "neutron rms radius $r_n^{\\mathrm{rms}}=\\langle r^2\\rangle_n^{1/2}$ is the neutron skin \n",
    "$r_{\\mathrm{skin}}=r_n^{\\mathrm{rms}}-r_p^{\\mathrm{rms}}$,\n",
    "where $r_p^{\\mathrm{rms}}$ is the corresponding proton rms radius.  \n",
    "There are several properties which relate the thickness of the neutron skin to quantities in nuclei and \n",
    "nuclear matter, such as the symmetry energy at the saturation point for nuclear matter, the slope\n",
    "of the equation of state for neutron matter\n",
    "or the low-energy electric dipole strength due to the pigmy dipole resonance.\n",
    "\n",
    "\n",
    "\n",
    "\n",
    "\n",
    "\n",
    "\n",
    "\n",
    "\n",
    "<!-- !split  -->\n",
    "## Mean-field picture\n",
    "\n",
    "With a mean- or average-field picture we mean that a given nucleon (either a proton or a neutron) moves in an average potential field which is set up by all other nucleons in the system. Consider for example a nucleus like ${}^{17}\\mbox{O}$ with nine neutrons and eight protons.\n",
    "\n",
    "\n",
    "\n",
    "Many properties  of this nucleus can be interpreted in terms of a picture where we can view it as\n",
    "one neutron on top of ${}^{16}\\mbox{O}$. We infer from data and our theoretical interpretations that this additional neutron behaves almost as an individual neutron which *sees* an average interaction set up by the remaining 16 nucleons in   ${}^{16}\\mbox{O}$. A nucleus like ${}^{16}\\mbox{O}$ is an example of what we will denote as a good closed-shell nucleus. More later.\n",
    "\n",
    "\n",
    "\n",
    "\n",
    "<!-- !split  -->\n",
    "## Mean-field picture, which potential do we opt for?\n",
    "A simple potential model which enjoys quite some popularity in nuclear\n",
    "physics, is the **three-dimensional harmonic oscillator**. This potential\n",
    "model captures some of the physics of deeply bound single-particle\n",
    "states but fails in reproducing the less bound single-particle\n",
    "states.\n",
    "\n",
    "\n",
    "\n",
    "<!-- !split  -->\n",
    "## Mean-field picture, more realistic model\n",
    "\n",
    "A parameterized, and more realistic, potential model which is\n",
    "widely used in nuclear physics, is the so-called **Woods-Saxon**\n",
    "potential. Both the harmonic oscillator and the Woods-Saxon potential\n",
    "models define computational problems that can easily be solved (see\n",
    "below), resulting (with the appropriate parameters) in a rather good\n",
    "reproduction of experiment for nuclei which can be approximated as one\n",
    "nucleon on top (or one nucleon removed) of a so-called closed-shell\n",
    "system.\n",
    "\n",
    "\n",
    "\n",
    "\n",
    "\n",
    "<!-- !split  -->\n",
    "## Too simple?\n",
    "\n",
    "To be able to interpret a nucleus in such a way requires at least that\n",
    "we are capable of parametrizing the abovementioned interactions in\n",
    "order to reproduce say the excitation spectrum of a nucleus like\n",
    "${}^{17}\\mbox{O}$.\n",
    "\n",
    "\n",
    "\n",
    "With such a parametrized interaction we are able to solve\n",
    "Schroedinger's equation for the motion of one nucleon in a given\n",
    "field. A nucleus is however a true and complicated many-nucleon\n",
    "system, with extremely many degrees of freedom and complicated\n",
    "correlations, rendering the ideal solution of the many-nucleon\n",
    "Schroedinger equation an impossible enterprise. It is much easier to\n",
    "solve a single-particle problem with say a Woods-Saxon\n",
    "potential.\n",
    "\n",
    "\n",
    "\n",
    "<!-- !split  -->\n",
    "## Motivation, better mean-fields\n",
    "\n",
    "An improvement to these simpler single-nucleon potentials is given by\n",
    "the Hartree-Fock method, where the variational principle is used to\n",
    "define a mean-field which the nucleons move in. There are many\n",
    "different classes of mean-field methods.\n",
    "\n",
    "\n",
    "\n",
    "An important difference\n",
    "between these methods and the simpler parametrized mean-field\n",
    "potentials like the harmonic oscillator and the Woods-Saxon\n",
    "potentials, is that the resulting equations contain information about\n",
    "the nuclear forces present in our models for solving Schroedinger's\n",
    "equation. Hartree-Fock and other mean-field methods like density\n",
    "functional theory can be considered as essential *kitchen items* in our attempts in solving the nuclear many-body problem.\n",
    "\n",
    "\n",
    "\n",
    "\n",
    "\n",
    "<!-- !split  -->\n",
    "## Aims here\n",
    "\n",
    "The aim here is to present some of the experimental data we\n",
    "use to motivate our ansatz for a many-body wave function. In particular, we will focus on separation energies\n",
    "and shell-gap energies and use these to build a picture of nuclei in\n",
    "terms of (from a philosophical stand we would call this a reductionist\n",
    "approach) a single-particle picture.\n",
    "\n",
    "\n",
    "\n",
    "The harmonic oscillator will\n",
    "serve as an excellent starting point in building nuclei from the\n",
    "bottom and up. Here we will neglect a theoretical description in terms of the underlying nuclear forces (see Brown's and Hergert's lectures).\n",
    "\n",
    "\n",
    "\n",
    "\n",
    "\n",
    "We want to develop our physics intuition of nuclear\n",
    "systems using a theoretical approach where we describe data in terms\n",
    "of the motion of individual nucleons and their mutual interactions.\n",
    "\n",
    "\n",
    "\n",
    "\n",
    "\n",
    "\n",
    "<!-- !split  -->\n",
    "## Do we understand the physics of dripline systems?\n",
    "Our first approach in analyzing data theoretically, is to see if we can use experimental information to \n",
    "\n",
    "* Extract information about a *so-called* single-particle  behavior\n",
    "\n",
    "* And interpret such a behavior in terms of the underlying forces and microscopic physics\n",
    "\n",
    "\n",
    "\n",
    "The next step is to see if we could use these interpretations to say something about shell closures and magic numbers. Since we focus on single-particle properties, a quantity we can extract from experiment is the separation energy for protons and neutrons. Before we proceed, we need to define quantities like masses and binding energies.   Two excellent reviews on \n",
    "recent trends in the determination of nuclear masses can be found in the articles of [Lunney and co-workers](http://journals.aps.org/rmp/abstract/10.1103/RevModPhys.75.1021) and [Blaum and co-workers](http://iopscience.iop.org/1402-4896/2013/T152/014017/)\n",
    "\n",
    "\n",
    "\n",
    "\n",
    "<!-- !split  -->\n",
    "## Masses and Binding energies\n",
    "A basic quantity which can be measured for the ground states of nuclei is the atomic mass $M(N, Z)$ of the neutral atom with atomic mass number $A$ and charge $Z$. The number of neutrons is $N$.\n",
    "\n",
    "\n",
    "\n",
    "Atomic masses are usually tabulated in terms of the mass excess defined by"
   ]
  },
  {
   "cell_type": "markdown",
   "metadata": {},
   "source": [
    "$$\n",
    "\\Delta M(N, Z) =  M(N, Z) - uA,\n",
    "$$"
   ]
  },
  {
   "cell_type": "markdown",
   "metadata": {},
   "source": [
    "where $u$ is the Atomic Mass Unit"
   ]
  },
  {
   "cell_type": "markdown",
   "metadata": {},
   "source": [
    "$$\n",
    "u = M(^{12}\\mathrm{C})/12 = 931.49386 \\hspace{0.1cm} \\mathrm{MeV}/c^2.\n",
    "$$"
   ]
  },
  {
   "cell_type": "markdown",
   "metadata": {},
   "source": [
    "<!-- !split  -->\n",
    "## Masses and Binding energies\n",
    "The nucleon masses are"
   ]
  },
  {
   "cell_type": "markdown",
   "metadata": {},
   "source": [
    "$$\n",
    "m_p = 938.27203(8)\\hspace{0.1cm} \\mathrm{MeV}/c^2 = 1.00727646688(13)u,\n",
    "$$"
   ]
  },
  {
   "cell_type": "markdown",
   "metadata": {},
   "source": [
    "and"
   ]
  },
  {
   "cell_type": "markdown",
   "metadata": {},
   "source": [
    "$$\n",
    "m_n = 939.56536(8)\\hspace{0.1cm} \\mathrm{MeV}/c^2 = 1.0086649156(6)u.\n",
    "$$"
   ]
  },
  {
   "cell_type": "markdown",
   "metadata": {},
   "source": [
    "In the 2003 mass evaluation there are 2127 nuclei measured with an accuracy of 0.2\n",
    "MeV or better, and 101 nuclei measured with an accuracy of greater than 0.2 MeV. For\n",
    "heavy nuclei one observes several chains of nuclei with a constant $N-Z$ value whose masses are obtained from the energy released in $\\alpha$-decay.\n",
    "\n",
    "\n",
    "\n",
    "\n",
    "<!-- !split  -->\n",
    "## Masses and Binding energies\n",
    "The nuclear binding energy is defined as the energy required to break up a given nucleus\n",
    "into its constituent parts of $N$ neutrons and $Z$ protons. In terms of the atomic masses $M(N, Z)$ the binding energy is defined by"
   ]
  },
  {
   "cell_type": "markdown",
   "metadata": {},
   "source": [
    "$$\n",
    "BE(N, Z) = ZM_H c^2 + Nm_n c^2 - M(N, Z)c^2 ,\n",
    "$$"
   ]
  },
  {
   "cell_type": "markdown",
   "metadata": {},
   "source": [
    "where $M_H$ is the mass of the hydrogen atom and $m_n$ is the mass of the neutron.\n",
    "In terms of the mass excess the binding energy is given by"
   ]
  },
  {
   "cell_type": "markdown",
   "metadata": {},
   "source": [
    "$$\n",
    "BE(N, Z) = Z\\Delta_H c^2 + N\\Delta_n c^2 -\\Delta(N, Z)c^2 ,\n",
    "$$"
   ]
  },
  {
   "cell_type": "markdown",
   "metadata": {},
   "source": [
    "where $\\Delta_H c^2 = 7.2890$ MeV and $\\Delta_n c^2 = 8.0713$ MeV.\n",
    "\n",
    "\n",
    "\n",
    "\n",
    "## Liquid drop model as a simple parametrization of binding energies\n",
    "\n",
    "A popular and physically intuitive model which can be used to parametrize \n",
    "the experimental binding energies as function of $A$, is the so-called \n",
    "the liquid drop model. The ansatz is based on the following expression"
   ]
  },
  {
   "cell_type": "markdown",
   "metadata": {},
   "source": [
    "$$\n",
    "BE(N,Z) = a_1A-a_2A^{2/3}-a_3\\frac{Z^2}{A^{1/3}}-a_4\\frac{(N-Z)^2}{A},\n",
    "$$"
   ]
  },
  {
   "cell_type": "markdown",
   "metadata": {},
   "source": [
    "where $A$ stands for the number of nucleons and the $a_i$s are parameters which are determined by a fit \n",
    "to the experimental data.\n",
    "\n",
    "\n",
    "\n",
    "\n",
    "## Liquid drop model as a simple parametrization of binding energies\n",
    "To arrive at the above expression we have assumed that we can make the following assumptions:\n",
    "\n",
    " * There is a volume term $a_1A$ proportional with the number of nucleons (the energy is also an extensive quantity). When an assembly of nucleons of the same size is packed together into the smallest volume, each interior nucleon has a certain number of other nucleons in contact with it. This contribution is proportional to the volume.\n",
    "\n",
    " * There is a surface energy term $a_2A^{2/3}$. The assumption here is that a nucleon at the surface of a nucleus interacts with fewer other nucleons than one in the interior of the nucleus and hence its binding energy is less. This surface energy term takes that into account and is therefore negative and is proportional to the surface area.\n",
    "\n",
    "\n",
    "\n",
    "## Liquid drop model as a simple parametrization of binding energies, continues\n",
    "\n",
    " * There is a Coulomb energy term $a_3\\frac{Z^2}{A^{1/3}}$. The electric repulsion between each pair of protons in a nucleus yields less binding. \n",
    "\n",
    " * There is an asymmetry term $a_4\\frac{(N-Z)^2}{A}$. This term is associated with the Pauli exclusion principle and reflectd the fact that the proton-neutron interaction is more attractive on the average than the neutron-neutron and proton-proton interactions.\n",
    "\n",
    "\n",
    "\n",
    "We could also add a so-called pairing term (an important model in nuclear physics), which is a correction term that\n",
    "arises from the tendency of proton pairs and neutron pairs to\n",
    "occur. An even number of particles is more stable than an odd number.\n",
    "\n",
    "\n",
    "\n",
    "\n",
    "\n",
    "<!-- !split  -->\n",
    "## Masses and Binding energies\n",
    "\n",
    "The following python program reads now in the experimental data on binding energies and performs a least squares fit to the data using a Machine Learning library called **Scikit-Learn**\n",
    "Let us start with reading and organizing our data. \n",
    "We start with the compilation of masses and binding energies from 2016.\n",
    "After having downloaded this file to our own computer, we are now ready to read the file and start structuring our data.\n",
    "\n",
    "\n",
    "We start with preparing folders for storing our calculations and the data file over masses and binding energies. We import also various modules that we will find useful in order to present various Machine Learning methods. Here we focus mainly on the functionality of **Scikit-Learn**."
   ]
  },
  {
   "cell_type": "code",
   "execution_count": 1,
   "metadata": {},
   "outputs": [],
   "source": [
    "%matplotlib inline\n",
    "\n",
    "# Common imports\n",
    "import numpy as np\n",
    "import pandas as pd\n",
    "import matplotlib.pyplot as plt\n",
    "import sklearn.linear_model as skl\n",
    "from sklearn.model_selection import train_test_split\n",
    "from sklearn.metrics import mean_squared_error, r2_score, mean_absolute_error\n",
    "import os\n",
    "\n",
    "# Where to save the figures and data files\n",
    "PROJECT_ROOT_DIR = \"Results\"\n",
    "FIGURE_ID = \"Results/FigureFiles\"\n",
    "DATA_ID = \"DataFiles/\"\n",
    "\n",
    "if not os.path.exists(PROJECT_ROOT_DIR):\n",
    "    os.mkdir(PROJECT_ROOT_DIR)\n",
    "\n",
    "if not os.path.exists(FIGURE_ID):\n",
    "    os.makedirs(FIGURE_ID)\n",
    "\n",
    "if not os.path.exists(DATA_ID):\n",
    "    os.makedirs(DATA_ID)\n",
    "\n",
    "def image_path(fig_id):\n",
    "    return os.path.join(FIGURE_ID, fig_id)\n",
    "\n",
    "def data_path(dat_id):\n",
    "    return os.path.join(DATA_ID, dat_id)\n",
    "\n",
    "def save_fig(fig_id):\n",
    "    plt.savefig(image_path(fig_id) + \".png\", format='png')\n",
    "\n",
    "infile = open(data_path(\"MassEval2016.dat\"),'r')"
   ]
  },
  {
   "cell_type": "markdown",
   "metadata": {},
   "source": [
    "Before we proceed, we define also a function for making our plots. You can obviously avoid this and simply set up various **matplotlib** commands every time you need them. You may however find it convenient to collect all such commands in one function and simply call this function."
   ]
  },
  {
   "cell_type": "code",
   "execution_count": 2,
   "metadata": {},
   "outputs": [],
   "source": [
    "from pylab import plt, mpl\n",
    "plt.style.use('seaborn')\n",
    "mpl.rcParams['font.family'] = 'serif'\n",
    "\n",
    "def MakePlot(x,y, styles, labels, axlabels):\n",
    "    plt.figure(figsize=(10,6))\n",
    "    for i in range(len(x)):\n",
    "        plt.plot(x[i], y[i], styles[i], label = labels[i])\n",
    "        plt.xlabel(axlabels[0])\n",
    "        plt.ylabel(axlabels[1])\n",
    "    plt.legend(loc=0)"
   ]
  },
  {
   "cell_type": "markdown",
   "metadata": {},
   "source": [
    "Our next step is to read the data on experimental binding energies and\n",
    "reorganize them as functions of the mass number $A$, the number of\n",
    "protons $Z$ and neutrons $N$ using **pandas**.  Before we do this it is\n",
    "always useful (unless you have a binary file or other types of compressed\n",
    "data) to actually open the file and simply take a look at it!\n",
    "\n",
    "\n",
    "In particular, the program that outputs the final nuclear masses is written in Fortran with a specific format. It means that we need to figure out the format and which columns contain the data we are interested in. Pandas comes with a function that reads formatted output. After having admired the file, we are now ready to start massaging it with **pandas**. The file begins with some basic format information."
   ]
  },
  {
   "cell_type": "code",
   "execution_count": 3,
   "metadata": {},
   "outputs": [],
   "source": [
    "\"\"\"                                                                                                                         \n",
    "This is taken from the data file of the mass 2016 evaluation.                                                               \n",
    "All files are 3436 lines long with 124 character per line.                                                                  \n",
    "       Headers are 39 lines long.                                                                                           \n",
    "   col 1     :  Fortran character control: 1 = page feed  0 = line feed                                                     \n",
    "   format    :  a1,i3,i5,i5,i5,1x,a3,a4,1x,f13.5,f11.5,f11.3,f9.3,1x,a2,f11.3,f9.3,1x,i3,1x,f12.5,f11.5                     \n",
    "   These formats are reflected in the pandas widths variable below, see the statement                                       \n",
    "   widths=(1,3,5,5,5,1,3,4,1,13,11,11,9,1,2,11,9,1,3,1,12,11,1),                                                            \n",
    "   Pandas has also a variable header, with length 39 in this case.                                                          \n",
    "\"\"\""
   ]
  },
  {
   "cell_type": "markdown",
   "metadata": {},
   "source": [
    "The data we are interested in are in columns 2, 3, 4 and 11, giving us\n",
    "the number of neutrons, protons, mass numbers and binding energies,\n",
    "respectively. We add also for the sake of completeness the element name. The data are in fixed-width formatted lines and we will\n",
    "covert them into the **pandas** DataFrame structure."
   ]
  },
  {
   "cell_type": "code",
   "execution_count": 3,
   "metadata": {},
   "outputs": [],
   "source": [
    "# Read the experimental data with Pandas\n",
    "Masses = pd.read_fwf(infile, usecols=(2,3,4,6,11),\n",
    "              names=('N', 'Z', 'A', 'Element', 'Ebinding'),\n",
    "              widths=(1,3,5,5,5,1,3,4,1,13,11,11,9,1,2,11,9,1,3,1,12,11,1),\n",
    "              header=39,\n",
    "              index_col=False)\n",
    "\n",
    "# Extrapolated values are indicated by '#' in place of the decimal place, so\n",
    "# the Ebinding column won't be numeric. Coerce to float and drop these entries.\n",
    "Masses['Ebinding'] = pd.to_numeric(Masses['Ebinding'], errors='coerce')\n",
    "Masses = Masses.dropna()\n",
    "# Convert from keV to MeV.\n",
    "Masses['Ebinding'] /= 1000\n",
    "\n",
    "# Group the DataFrame by nucleon number, A.\n",
    "Masses = Masses.groupby('A')\n",
    "# Find the rows of the grouped DataFrame with the maximum binding energy.\n",
    "Masses = Masses.apply(lambda t: t[t.Ebinding==t.Ebinding.max()])"
   ]
  },
  {
   "cell_type": "markdown",
   "metadata": {},
   "source": [
    "We have now read in the data, grouped them according to the variables we are interested in. \n",
    "We see how easy it is to reorganize the data using **pandas**. If we\n",
    "were to do these operations in C/C++ or Fortran, we would have had to\n",
    "write various functions/subroutines which perform the above\n",
    "reorganizations for us.  Having reorganized the data, we can now start\n",
    "to make some simple fits using both the functionalities in **numpy** and\n",
    "**Scikit-Learn** afterwards. \n",
    "\n",
    "Now we define five variables which contain\n",
    "the number of nucleons $A$, the number of protons $Z$ and the number of neutrons $N$, the element name and finally the energies themselves."
   ]
  },
  {
   "cell_type": "code",
   "execution_count": 4,
   "metadata": {},
   "outputs": [
    {
     "name": "stdout",
     "output_type": "stream",
     "text": [
      "            N    Z    A Element  Ebinding\n",
      "A                                        \n",
      "1   0       0    1    1       H  0.000000\n",
      "2   1       1    1    2       H  1.112283\n",
      "3   2       2    1    3       H  2.827265\n",
      "4   6       2    2    4      He  7.073915\n",
      "5   9       3    2    5      He  5.512132\n",
      "6   14      3    3    6      Li  5.332331\n",
      "7   19      4    3    7      Li  5.606439\n",
      "8   24      4    4    8      Be  7.062435\n",
      "9   29      5    4    9      Be  6.462668\n",
      "10  34      6    4   10      Be  6.497630\n",
      "11  40      6    5   11       B  6.927732\n",
      "12  46      6    6   12       C  7.680144\n",
      "13  52      7    6   13       C  7.469849\n",
      "14  57      8    6   14       C  7.520319\n",
      "15  64      8    7   15       N  7.699460\n",
      "16  72      8    8   16       O  7.976206\n",
      "17  78      9    8   17       O  7.750728\n",
      "18  85     10    8   18       O  7.767097\n",
      "19  93     10    9   19       F  7.779018\n",
      "20  102    10   10   20      Ne  8.032240\n",
      "21  110    11   10   21      Ne  7.971713\n",
      "22  118    12   10   22      Ne  8.080465\n",
      "23  128    12   11   23      Na  8.111493\n",
      "24  137    12   12   24      Mg  8.260709\n",
      "25  146    13   12   25      Mg  8.223502\n",
      "26  154    14   12   26      Mg  8.333870\n",
      "27  164    14   13   27      Al  8.331553\n",
      "28  174    14   14   28      Si  8.447744\n",
      "29  183    15   14   29      Si  8.448635\n",
      "30  192    16   14   30      Si  8.520654\n",
      "...       ...  ...  ...     ...       ...\n",
      "238 3089  146   92  238       U  7.570125\n",
      "239 3099  146   93  239      Np  7.560567\n",
      "240 3109  146   94  240      Pu  7.556042\n",
      "241 3118  147   94  241      Pu  7.546439\n",
      "242 3127  148   94  242      Pu  7.541327\n",
      "243 3136  149   94  243      Pu  7.531008\n",
      "244 3144  150   94  244      Pu  7.524815\n",
      "245 3154  149   96  245      Cm  7.515767\n",
      "246 3162  150   96  246      Cm  7.511471\n",
      "247 3170  151   96  247      Cm  7.501931\n",
      "248 3177  152   96  248      Cm  7.496728\n",
      "249 3186  152   97  249      Bk  7.486040\n",
      "250 3194  152   98  250      Cf  7.479956\n",
      "251 3201  153   98  251      Cf  7.470500\n",
      "252 3209  154   98  252      Cf  7.465347\n",
      "253 3216  155   98  253      Cf  7.454829\n",
      "254 3224  156   98  254      Cf  7.449225\n",
      "255 3232  156   99  255      Es  7.437821\n",
      "256 3241  156  100  256      Fm  7.431780\n",
      "257 3248  157  100  257      Fm  7.422194\n",
      "258 3256  157  101  258      Md  7.409675\n",
      "259 3264  157  102  259      No  7.399974\n",
      "260 3275  154  106  260      Sg  7.342562\n",
      "261 3280  157  104  261      Rf  7.371384\n",
      "262 3289  156  106  262      Sg  7.341185\n",
      "264 3304  156  108  264      Hs  7.298375\n",
      "265 3310  157  108  265      Hs  7.296247\n",
      "266 3317  158  108  266      Hs  7.298273\n",
      "269 3338  159  110  269      Ds  7.250154\n",
      "270 3344  160  110  270      Ds  7.253775\n",
      "\n",
      "[267 rows x 5 columns]\n"
     ]
    }
   ],
   "source": [
    "A = Masses['A']\n",
    "Z = Masses['Z']\n",
    "N = Masses['N']\n",
    "Element = Masses['Element']\n",
    "Energies = Masses['Ebinding']\n",
    "print(Masses)"
   ]
  },
  {
   "cell_type": "markdown",
   "metadata": {},
   "source": [
    "The next step, and we will define this mathematically later, is to set up the so-called **design matrix**. We will throughout call this matrix $\\boldsymbol{X}$.\n",
    "It has dimensionality $p\\times n$, where $n$ is the number of data points and $p$ are the so-called predictors. In our case here they are given by the number of polynomials in $A$ we wish to include in the fit."
   ]
  },
  {
   "cell_type": "code",
   "execution_count": 6,
   "metadata": {},
   "outputs": [],
   "source": [
    "# Now we set up the design matrix X\n",
    "X = np.zeros((len(A),5))\n",
    "X[:,0] = 1\n",
    "X[:,1] = A\n",
    "X[:,2] = A**(2.0/3.0)\n",
    "X[:,3] = A**(-1.0/3.0)\n",
    "X[:,4] = A**(-1.0)"
   ]
  },
  {
   "cell_type": "markdown",
   "metadata": {},
   "source": [
    "With **scikitlearn** we are now ready to use linear regression and fit our data."
   ]
  },
  {
   "cell_type": "code",
   "execution_count": 7,
   "metadata": {},
   "outputs": [],
   "source": [
    "clf = skl.LinearRegression().fit(X, Energies)\n",
    "fity = clf.predict(X)"
   ]
  },
  {
   "cell_type": "markdown",
   "metadata": {},
   "source": [
    "Pretty simple!  \n",
    "Now we can print measures of how our fit is doing, the coefficients from the fits and plot the final fit together with our data."
   ]
  },
  {
   "cell_type": "code",
   "execution_count": 8,
   "metadata": {},
   "outputs": [
    {
     "name": "stdout",
     "output_type": "stream",
     "text": [
      "Mean squared error: 0.04\n",
      "Variance score: 0.95\n",
      "Mean absolute error: 0.05\n",
      "[ 0.00000000e+00  7.06492086e-03 -1.73091052e-01 -1.66020213e+01\n",
      "  1.17385778e+00] 15.212327334149492\n"
     ]
    },
    {
     "data": {
      "image/png": "[encoded data removed]",
      "text/plain": [
       "<Figure size 576x396 with 1 Axes>"
      ]
     },
     "metadata": {},
     "output_type": "display_data"
    }
   ],
   "source": [
    "# The mean squared error                               \n",
    "print(\"Mean squared error: %.2f\" % mean_squared_error(Energies, fity))\n",
    "# Explained variance score: 1 is perfect prediction                                 \n",
    "print('Variance score: %.2f' % r2_score(Energies, fity))\n",
    "# Mean absolute error                                                           \n",
    "print('Mean absolute error: %.2f' % mean_absolute_error(Energies, fity))\n",
    "print(clf.coef_, clf.intercept_)\n",
    "\n",
    "Masses['Eapprox']  = fity\n",
    "# Generate a plot comparing the experimental with the fitted values values.\n",
    "fig, ax = plt.subplots()\n",
    "ax.set_xlabel(r'$A = N + Z$')\n",
    "ax.set_ylabel(r'$E_\\mathrm{bind}\\,/\\mathrm{MeV}$')\n",
    "ax.plot(Masses['A'], Masses['Ebinding'], alpha=0.7, lw=2,\n",
    "            label='Ame2016')\n",
    "ax.plot(Masses['A'], Masses['Eapprox'], alpha=0.7, lw=2, c='m',\n",
    "            label='Fit')\n",
    "ax.legend()\n",
    "save_fig(\"Masses2016\")\n",
    "plt.show()"
   ]
  },
  {
   "cell_type": "markdown",
   "metadata": {},
   "source": [
    "<!-- !split  -->\n",
    "## $Q$-values and separation energies\n",
    "We are now interested in interpreting experimental binding energies  in terms of a single-particle picture.\n",
    "In order to do so, we  consider first energy conservation for nuclear transformations that include, for\n",
    "example, the fusion of two nuclei $a$ and $b$ into the combined system $c$"
   ]
  },
  {
   "cell_type": "markdown",
   "metadata": {},
   "source": [
    "$$\n",
    "{^{N_a+Z_a}}a+ {^{N_b+Z_b}}b\\rightarrow {^{N_c+Z_c}}c\n",
    "$$"
   ]
  },
  {
   "cell_type": "markdown",
   "metadata": {},
   "source": [
    "or the decay of nucleus $c$ into two other nuclei $a$ and $b$"
   ]
  },
  {
   "cell_type": "markdown",
   "metadata": {},
   "source": [
    "$$\n",
    "^{N_c+Z_c}c \\rightarrow  ^{N_a+Z_a}a+ ^{N_b+Z_b}b\n",
    "$$"
   ]
  },
  {
   "cell_type": "markdown",
   "metadata": {},
   "source": [
    "<!-- !split  -->\n",
    "## $Q$-values and separation energies\n",
    "In general we have the reactions"
   ]
  },
  {
   "cell_type": "markdown",
   "metadata": {},
   "source": [
    "$$\n",
    "\\sum_i {^{N_i+Z_i}}i \\rightarrow  \\sum_f {^{N_f+Z_f}}f\n",
    "$$"
   ]
  },
  {
   "cell_type": "markdown",
   "metadata": {},
   "source": [
    "We require also that the number of protons and neutrons (the total number of nucleons) is conserved in the initial stage and final stage, unless we have processes which violate baryon conservation,"
   ]
  },
  {
   "cell_type": "markdown",
   "metadata": {},
   "source": [
    "$$\n",
    "\\sum_iN_i = \\sum_f N_f \\hspace{0.2cm}\\mathrm{and} \\hspace{0.2cm}\\sum_iZ_i = \\sum_f Z_f.\n",
    "$$"
   ]
  },
  {
   "cell_type": "markdown",
   "metadata": {},
   "source": [
    "<!-- !split  -->\n",
    "## Motivation\n",
    "**Do we understand the physics of dripline systems?**\n",
    "\n",
    "Artist's rendition of the emission of one proton from various oxygen isotopes. Protons are in red while neutrons are in blue. These processes could be interpreted as the decay\n",
    "nucleus $c$ into two other nuclei $a$ and $b$"
   ]
  },
  {
   "cell_type": "markdown",
   "metadata": {},
   "source": [
    "$$\n",
    "^{N_c+Z_c}c \\rightarrow  ^{N_a+Z_a}a+ ^{N_b+Z_b}b .\n",
    "$$"
   ]
  },
  {
   "cell_type": "markdown",
   "metadata": {},
   "source": [
    "<!-- dom:FIGURE: [figslides/oxygens.jpg, width=600 frac=0.6] Artist's rendition of the emission of one proton from various oxygen isotopes. -->\n",
    "<!-- begin figure -->\n",
    "\n",
    "<p>Artist's rendition of the emission of one proton from various oxygen isotopes.</p>\n",
    "<img src=\"figslides/oxygens.jpg\" width=600>\n",
    "\n",
    "<!-- end figure -->\n",
    "\n",
    "\n",
    "\n",
    "\n",
    "<!-- !split  -->\n",
    "## $Q$-values and separation energies\n",
    "The above processes can be characterized by an energy difference called the $Q$ value, defined as"
   ]
  },
  {
   "cell_type": "markdown",
   "metadata": {},
   "source": [
    "$$\n",
    "Q=\\sum_i M(N_i, Z_i)c^2-\\sum_f M(N_f, Z_f)c^2=\\sum_i BE(N_f, Z_f)-\\sum_i BE(N_i, Z_i)\n",
    "$$"
   ]
  },
  {
   "cell_type": "markdown",
   "metadata": {},
   "source": [
    "Spontaneous decay involves a single initial nuclear state and is allowed if $Q > 0$. In the decay, energy is released in the form of the kinetic energy of the final products. Reactions involving two initial nuclei are called endothermic (a net loss of energy) if $Q < 0$. The reactions are exothermic (a net release of energy) if $Q > 0$.\n",
    "\n",
    "\n",
    "\n",
    "\n",
    "<!-- !split  -->\n",
    "## $Q$-values and separation energies\n",
    "Let us study the Q values associated with the removal of one or two nucleons from\n",
    "a nucleus. These are conventionally defined in terms of the one-nucleon and two-nucleon\n",
    "separation energies. The neutron separation energy is defined as"
   ]
  },
  {
   "cell_type": "markdown",
   "metadata": {},
   "source": [
    "$$\n",
    "S_n= -Q_n= BE(N,Z)-BE(N-1,Z),\n",
    "$$"
   ]
  },
  {
   "cell_type": "markdown",
   "metadata": {},
   "source": [
    "and the proton separation energy reads"
   ]
  },
  {
   "cell_type": "markdown",
   "metadata": {},
   "source": [
    "$$\n",
    "S_p= -Q_p= BE(N,Z)-BE(N,Z-1).\n",
    "$$"
   ]
  },
  {
   "cell_type": "markdown",
   "metadata": {},
   "source": [
    "The two-neutron separation energy is defined as"
   ]
  },
  {
   "cell_type": "markdown",
   "metadata": {},
   "source": [
    "$$\n",
    "S_{2n}= -Q_{2n}= BE(N,Z)-BE(N-2,Z),\n",
    "$$"
   ]
  },
  {
   "cell_type": "markdown",
   "metadata": {},
   "source": [
    "and  the two-proton separation energy is given by"
   ]
  },
  {
   "cell_type": "markdown",
   "metadata": {},
   "source": [
    "$$\n",
    "S_{2p}= -Q_{2p}= BE(N,Z)-BE(N,Z-2).\n",
    "$$"
   ]
  },
  {
   "cell_type": "markdown",
   "metadata": {},
   "source": [
    "<!-- !split  -->\n",
    "## Separation energies and energy gaps\n",
    "Using say the neutron separation energies (alternatively the proton separation energies)"
   ]
  },
  {
   "cell_type": "markdown",
   "metadata": {},
   "source": [
    "$$\n",
    "S_n= -Q_n= BE(N,Z)-BE(N-1,Z),\n",
    "$$"
   ]
  },
  {
   "cell_type": "markdown",
   "metadata": {},
   "source": [
    "we can define the so-called energy gap for neutrons (or protons) as"
   ]
  },
  {
   "cell_type": "markdown",
   "metadata": {},
   "source": [
    "$$\n",
    "\\Delta S_n= BE(N,Z)-BE(N-1,Z)-\\left(BE(N+1,Z)-BE(N,Z)\\right),\n",
    "$$"
   ]
  },
  {
   "cell_type": "markdown",
   "metadata": {},
   "source": [
    "or"
   ]
  },
  {
   "cell_type": "markdown",
   "metadata": {},
   "source": [
    "$$\n",
    "\\Delta S_n= 2BE(N,Z)-BE(N-1,Z)-BE(N+1,Z).\n",
    "$$"
   ]
  },
  {
   "cell_type": "markdown",
   "metadata": {},
   "source": [
    "This quantity can in turn be used to determine which nuclei are magic or not. \n",
    "For protons we would have"
   ]
  },
  {
   "cell_type": "markdown",
   "metadata": {},
   "source": [
    "$$\n",
    "\\Delta S_p= 2BE(N,Z)-BE(N,Z-1)-BE(N,Z+1).\n",
    "$$"
   ]
  },
  {
   "cell_type": "markdown",
   "metadata": {},
   "source": [
    "We leave it as an exercise to the reader to define and interpret the two-neutron or two-proton gaps.\n",
    "\n",
    "\n",
    "\n",
    "\n",
    "<!-- !split  -->\n",
    "## Separation energies\n",
    "\n",
    "\n",
    "To calculate say the neutron separation we need to multiply our masses with the nucleon number $A$ (why?).\n",
    "Thereafter we pick the oxygen isotopes and simply compute the separation energies with  two lines of code (note that most of the code here is a repeat of what you have seen before)."
   ]
  },
  {
   "cell_type": "code",
   "execution_count": 19,
   "metadata": {},
   "outputs": [
    {
     "name": "stdout",
     "output_type": "stream",
     "text": [
      "        A   Z    N Element     Energies  NeutronSeparationEnergies\n",
      "2380  179  82   97      Pb  1378.562772                   9.595032\n",
      "2394  180  82   98      Pb  1390.626000                  12.063228\n",
      "2408  181  82   99      Pb  1399.873367                   9.247367\n",
      "2421  182  82  100      Pb  1411.652424                  11.779057\n",
      "2434  183  82  101      Pb  1420.473816                   8.821392\n",
      "2447  184  82  102      Pb  1432.021400                  11.547584\n",
      "2461  185  82  103      Pb  1440.582420                   8.561020\n",
      "2474  186  82  104      Pb  1451.794542                  11.212122\n",
      "2488  187  82  105      Pb  1460.170800                   8.376258\n",
      "2502  188  82  106      Pb  1471.070484                  10.899684\n",
      "2515  189  82  107      Pb  1479.170511                   8.100027\n",
      "2528  190  82  108      Pb  1489.814510                  10.643999\n",
      "2540  191  82  109      Pb  1497.700333                   7.885823\n",
      "2553  192  82  110      Pb  1508.096448                  10.396115\n",
      "2566  193  82  111      Pb  1515.806367                   7.709919\n",
      "2580  194  82  112      Pb  1525.891092                  10.084725\n",
      "2593  195  82  113      Pb  1533.462060                   7.570968\n",
      "2606  196  82  114      Pb  1543.174052                   9.711992\n",
      "2619  197  82  115      Pb  1550.642554                   7.468502\n",
      "2632  198  82  116      Pb  1560.035862                   9.393308\n",
      "2645  199  82  117      Pb  1567.271464                   7.235602\n",
      "2657  200  82  118      Pb  1576.362000                   9.090536\n",
      "2669  201  82  119      Pb  1583.453277                   7.091277\n",
      "2682  202  82  120      Pb  1592.194300                   8.741023\n",
      "2695  203  82  121      Pb  1599.111591                   6.917291\n",
      "2707  204  82  122      Pb  1607.506128                   8.394537\n",
      "2719  205  82  123      Pb  1614.237855                   6.731727\n",
      "2731  206  82  124      Pb  1622.324572                   8.086717\n",
      "2743  207  82  125      Pb  1629.062262                   6.737690\n",
      "2755  208  82  126      Pb  1636.430224                   7.367962\n",
      "2767  209  82  127      Pb  1640.367432                   3.937208\n",
      "2779  210  82  128      Pb  1645.552650                   5.185218\n",
      "2790  211  82  129      Pb  1649.388477                   3.835827\n",
      "2802  212  82  130      Pb  1654.515628                   5.127151\n",
      "2814  213  82  131      Pb  1658.241636                   3.726008\n",
      "2826  214  82  132      Pb  1663.292316                   5.050680\n",
      "2838  215  82  133      Pb  1666.838455                   3.546139\n"
     ]
    },
    {
     "name": "stderr",
     "output_type": "stream",
     "text": [
      "/usr/local/lib/python3.7/site-packages/matplotlib/font_manager.py:1238: UserWarning: findfont: Font family ['serif'] not found. Falling back to DejaVu Sans.\n",
      "  (prop.get_family(), self.defaultFamily[fontext]))\n"
     ]
    },
    {
     "data": {
      "image/png": "[encoded data removed]",
      "text/plain": [
       "<Figure size 720x432 with 1 Axes>"
      ]
     },
     "metadata": {},
     "output_type": "display_data"
    }
   ],
   "source": [
    "# Common imports\n",
    "import numpy as np\n",
    "import pandas as pd\n",
    "import matplotlib.pyplot as plt\n",
    "import os\n",
    "from pylab import plt, mpl\n",
    "plt.style.use('seaborn')\n",
    "mpl.rcParams['font.family'] = 'serif'\n",
    "\n",
    "def MakePlot(x,y, styles, labels, axlabels):\n",
    "    plt.figure(figsize=(10,6))\n",
    "    for i in range(len(x)):\n",
    "        plt.plot(x[i], y[i], styles[i], label = labels[i])\n",
    "        plt.xlabel(axlabels[0])\n",
    "        plt.ylabel(axlabels[1])\n",
    "    plt.legend(loc=0)\n",
    "\n",
    "\n",
    "\n",
    "# Where to save the figures and data files\n",
    "PROJECT_ROOT_DIR = \"Results\"\n",
    "FIGURE_ID = \"Results/FigureFiles\"\n",
    "DATA_ID = \"DataFiles/\"\n",
    "\n",
    "if not os.path.exists(PROJECT_ROOT_DIR):\n",
    "    os.mkdir(PROJECT_ROOT_DIR)\n",
    "\n",
    "if not os.path.exists(FIGURE_ID):\n",
    "    os.makedirs(FIGURE_ID)\n",
    "\n",
    "if not os.path.exists(DATA_ID):\n",
    "    os.makedirs(DATA_ID)\n",
    "\n",
    "def image_path(fig_id):\n",
    "    return os.path.join(FIGURE_ID, fig_id)\n",
    "\n",
    "def data_path(dat_id):\n",
    "    return os.path.join(DATA_ID, dat_id)\n",
    "\n",
    "def save_fig(fig_id):\n",
    "    plt.savefig(image_path(fig_id) + \".png\", format='png')\n",
    "\n",
    "infile = open(data_path(\"MassEval2016.dat\"),'r')\n",
    "\n",
    "\n",
    "# Read the experimental data with Pandas\n",
    "Masses = pd.read_fwf(infile, usecols=(2,3,4,6,11),\n",
    "              names=('N', 'Z', 'A', 'Element', 'Ebinding'),\n",
    "              widths=(1,3,5,5,5,1,3,4,1,13,11,11,9,1,2,11,9,1,3,1,12,11,1),\n",
    "              header=39,\n",
    "              index_col=False)\n",
    "\n",
    "# Extrapolated values are indicated by '#' in place of the decimal place, so\n",
    "# the Ebinding column won't be numeric. Coerce to float and drop these entries.\n",
    "Masses['Ebinding'] = pd.to_numeric(Masses['Ebinding'], errors='coerce')\n",
    "Masses = Masses.dropna()\n",
    "# Convert from keV to MeV.\n",
    "Masses['Ebinding'] /= 1000\n",
    "A = Masses['A']\n",
    "Z = Masses['Z']\n",
    "N = Masses['N']\n",
    "Element = Masses['Element']\n",
    "Energies = Masses['Ebinding']*A\n",
    "\n",
    "df = pd.DataFrame({'A':A,'Z':Z, 'N':N,'Element':Element,'Energies':Energies})\n",
    "# Her we pick the oyxgen isotopes\n",
    "Nucleus = df.loc[lambda df: df.Z==82, :]\n",
    "# drop cases with no number\n",
    "Nucleus = Nucleus.dropna()\n",
    "# Here we do the magic and obtain the neutron separation energies, one line of code!!\n",
    "Nucleus['NeutronSeparationEnergies'] = Nucleus['Energies'].diff(+1)\n",
    "Nucleus = Nucleus.dropna()\n",
    "print(Nucleus)\n",
    "MakePlot([Nucleus.A], [Nucleus.NeutronSeparationEnergies], ['b'], ['Neutron Separation Energy'], ['$A$','$S_n$'])\n",
    "save_fig('Nucleus')\n",
    "plt.show()"
   ]
  },
  {
   "cell_type": "markdown",
   "metadata": {},
   "source": [
    "## Features to be noted\n",
    "Since we will focus in the beginning on single-particle degrees of freedom and mean-field approaches there are some features to be noted\n",
    "\n",
    "* In the discussion of the liquid drop model and binding energies, we note that the total binding energy is not that different from the sum of the individual neutron and proton masses. \n",
    "\n",
    "One may thus infer that intrinsic properties of nucleons in a nucleus are close to those of free nucleons.\n",
    "* In the discussion of the neutron separation energies for the oxygen isotopes, we note  a clear staggering effect between odd and even isotopes with the even ones being more bound (larger separation energies). This is linked with strong pairing correlations in nuclei arising from the nuclear force.\n",
    "\n",
    " \n",
    "\n",
    "\n",
    "## Features to be noted, continues\n",
    "* The neutron separation energy becomes negative at ${}^{25}\\mbox{O}$, making this nucleus unstable with respect to the emission of one neutron. A nucleus like ${}^{24}\\mbox{O}$ is thus the last stable oxygen isotopes which has been observed. Oxygen-26 has been to be unbound with respect to ${}^{24}\\mbox{O}$.\n",
    "\n",
    "* We note also that there are large shell-gaps for some nuclei, meaning that more energy is needed to remove one nucleon. These gaps are used to define so-called magic numbers. For the oxygen isotopes we see a clear gap for ${}^{16}\\mbox{O}$. We will interpret this gap as one of several experimental properties that define so-called magic numbers. In our discussion below we will make a first interpretation using  single-particle states from the harmonic oscillator and the Woods-Saxon potential. \n",
    "\n",
    "In the exercise below you will be asked to perform a similar analysis for other chains of isotopes and interpret the results.\n",
    "\n",
    " \n",
    "\n",
    "\n",
    "\n",
    "<!-- --- begin exercise --- -->\n",
    "\n",
    "## Exercise 1: Masses and binding energies\n",
    "\n",
    "The data on binding energies can be found in the file bedata.dat (go to the datafiles folder)\n",
    "\n",
    "\n",
    "**a)**\n",
    "Write a small program which reads in the proton and neutron numbers and the binding energies \n",
    "and make a plot of all neutron separation energies for the chain of oxygen (O), calcium (Ca), nickel (Ni), tin (Sn) and lead (Pb) isotopes, that is you need to plot"
   ]
  },
  {
   "cell_type": "markdown",
   "metadata": {},
   "source": [
    "$$\n",
    "S_n= BE(N,Z)-BE(N-1,Z).\n",
    "$$"
   ]
  },
  {
   "cell_type": "markdown",
   "metadata": {},
   "source": [
    "Comment your results.\n",
    "\n",
    "**b)**\n",
    "Include in the same figure(s) the liquid drop model results, namely"
   ]
  },
  {
   "cell_type": "markdown",
   "metadata": {},
   "source": [
    "$$\n",
    "BE(N,Z)= \\alpha_1A-\\alpha_2A^{2/3}-\\alpha_3\\frac{Z^2}{A^{1/3}}-\\alpha_4\\frac{(N-Z)^2}{A},\n",
    "$$"
   ]
  },
  {
   "cell_type": "markdown",
   "metadata": {},
   "source": [
    "with $\\alpha_1=15.49$ MeV, $\\alpha_2=17.23$ MeV, $\\alpha_3=0.697$ MeV and $\\alpha_4=22.6$ MeV. Comment your results\n",
    "\n",
    "**c)**\n",
    "Make a plot of the binding energies as function of the number of nucleons $A$ using the data in the file on bindingenergies and the above liquid drop model.\n",
    "\n",
    "**d)**\n",
    "Use the liquid drop model to find the neutron drip lines   for Z values up to 120.\n",
    "Analyze then the fluorine isotopes and find, where available the corresponding experimental data, and compare the liquid drop model predicition with experiment.  Comment your results.\n",
    "\n",
    "\n",
    "\n",
    "<!-- --- end exercise --- -->\n",
    "\n",
    "\n",
    "## Our first attempt at a model,  harmonic oscillator spectrum\n",
    "<!-- dom:FIGURE: [figslides/singleparticle.png, width=800 frac=0.8] Single-particle spectrum and quantum numbers for a harmonic oscillator potential and a Woods-Saxon potential with and without a spin-orbit force. -->\n",
    "<!-- begin figure -->\n",
    "\n",
    "<p>Single-particle spectrum and quantum numbers for a harmonic oscillator potential and a Woods-Saxon potential with and without a spin-orbit force.</p>\n",
    "<img src=\"figslides/singleparticle.png\" width=800>\n",
    "\n",
    "<!-- end figure -->\n",
    "\n",
    "\n",
    "\n",
    "## The Woods-Saxon potential\n",
    "The Woods-Saxon potential is a mean field potential for the nucleons (protons and neutrons) \n",
    "inside an atomic nucleus. It represent an average potential that a given nucleon feels from  the forces applied on each nucleon. \n",
    "The parametrization is"
   ]
  },
  {
   "cell_type": "markdown",
   "metadata": {},
   "source": [
    "$$\n",
    "\\hat{u}_{\\mathrm{ext}}(r)=-\\frac{V_0}{1+\\exp{(r-R)/a}},\n",
    "$$"
   ]
  },
  {
   "cell_type": "markdown",
   "metadata": {},
   "source": [
    "with $V_0\\approx 50$ MeV representing the potential well depth, $a\\approx 0.5$ fm \n",
    "length representing the \"surface thickness\" of the nucleus and $R=r_0A^{1/3}$, with $r_0=1.25$ fm and $A$ the number of nucleons.\n",
    "The value for $r_0$ can be extracted from a fit to data, see for example [M. Kirson's article](http://www.sciencedirect.com/science/article/pii/S037594740600769X).\n",
    "\n",
    "\n",
    "\n",
    "\n",
    "## The Woods-Saxon potential\n",
    "The following python code produces a plot of the Woods-Saxon potential with the above parameters."
   ]
  },
  {
   "cell_type": "code",
   "execution_count": 18,
   "metadata": {},
   "outputs": [
    {
     "name": "stderr",
     "output_type": "stream",
     "text": [
      "/usr/local/lib/python3.7/site-packages/matplotlib/font_manager.py:1238: UserWarning: findfont: Font family ['serif'] not found. Falling back to DejaVu Sans.\n",
      "  (prop.get_family(), self.defaultFamily[fontext]))\n",
      "/usr/local/lib/python3.7/site-packages/matplotlib/font_manager.py:1238: UserWarning: findfont: Font family ['serif'] not found. Falling back to DejaVu Sans.\n",
      "  (prop.get_family(), self.defaultFamily[fontext]))\n",
      "/usr/local/lib/python3.7/site-packages/matplotlib/font_manager.py:1238: UserWarning: findfont: Font family ['serif'] not found. Falling back to DejaVu Sans.\n",
      "  (prop.get_family(), self.defaultFamily[fontext]))\n"
     ]
    },
    {
     "data": {
      "image/png": "[encoded data removed]",
      "text/plain": [
       "<Figure size 576x396 with 1 Axes>"
      ]
     },
     "metadata": {},
     "output_type": "display_data"
    }
   ],
   "source": [
    "import numpy as np\n",
    "from  matplotlib import pyplot as plt\n",
    "from matplotlib import rc, rcParams\n",
    "import matplotlib.units as units\n",
    "import matplotlib.ticker as ticker\n",
    "rc('text',usetex=True)\n",
    "rc('font',**{'family':'serif','serif':['Woods-Saxon potential']})\n",
    "font = {'family' : 'serif',\n",
    "        'color'  : 'darkred',\n",
    "        'weight' : 'normal',\n",
    "        'size'   : 16,\n",
    "        }\n",
    "v0 = 50\n",
    "A = 100\n",
    "a = 0.5\n",
    "r0 = 1.25\n",
    "R = r0*A**(0.3333)\n",
    "x = np.linspace(0.0, 10.0)\n",
    "y = -v0/(1+np.exp((x-R)/a))\n",
    "\n",
    "plt.plot(x, y, 'b-')\n",
    "plt.title(r'{\\bf Woods-Saxon potential}', fontsize=20)     \n",
    "plt.text(3, -40, r'Parameters: $A=20$, $V_0=50$ [MeV]', fontdict=font)\n",
    "plt.text(3, -44, r'$a=0.5$ [fm], $r_0=1.25$ [fm]', fontdict=font)\n",
    "plt.xlabel(r'$r$ [fm]',fontsize=20)\n",
    "plt.ylabel(r'$V(r)$ [MeV]',fontsize=20)\n",
    "\n",
    "# Tweak spacing to prevent clipping of ylabel\n",
    "plt.subplots_adjust(left=0.15)"
   ]
  },
  {
   "cell_type": "markdown",
   "metadata": {},
   "source": [
    "From the plot we notice that the potential\n",
    "* rapidly approaches zero as $r$ goes to infinity, reflecting the short-distance nature of the strong nuclear force.\n",
    "\n",
    "* For large $A$, it is approximately flat in the center.\n",
    "\n",
    "* Nucleons near the surface of the nucleus experience a large force towards the center.\n",
    "\n",
    "\n",
    "\n",
    "\n",
    "\n",
    "\n",
    "## Single-particle Hamiltonians and spin-orbit force\n",
    "We have introduced a single-particle Hamiltonian"
   ]
  },
  {
   "cell_type": "markdown",
   "metadata": {},
   "source": [
    "$$\n",
    "H_0=\\sum_{i=1}^A \\hat{h}_0(x_i) =  \\sum_{i=1}^A\\left(\\hat{t}(x_i) + \\hat{u}_{\\mathrm{ext}}(x_i)\\right),\n",
    "$$"
   ]
  },
  {
   "cell_type": "markdown",
   "metadata": {},
   "source": [
    "with an external and central symmetric potential $u_{\\mathrm{ext}}(x_i)$, which is often \n",
    "approximated by a harmonic oscillator potential or a Woods-Saxon potential. Being central symmetric leads to a degeneracy \n",
    "in energy which is not observed experimentally. We see this from for example our discussion of separation energies and magic numbers. There are, in addition to the assumed magic numbers from a harmonic oscillator basis of $2,8,20,40,70\\dots$ magic numbers like $28$, $50$, $82$ and $126$. \n",
    "\n",
    "To produce these additional numbers, we need to add a phenomenological spin-orbit force which lifts the degeneracy, that is"
   ]
  },
  {
   "cell_type": "markdown",
   "metadata": {},
   "source": [
    "$$\n",
    "\\hat{h}(x_i) =  \\hat{t}(x_i) + \\hat{u}_{\\mathrm{ext}}(x_i) +\\xi(\\boldsymbol{r})\\boldsymbol{ls}=\\hat{h}_0(x_i)+\\xi(\\boldsymbol{r})\\boldsymbol{ls}.\n",
    "$$"
   ]
  },
  {
   "cell_type": "markdown",
   "metadata": {},
   "source": [
    "## Single-particle Hamiltonians and spin-orbit force\n",
    "We have introduced a modified single-particle Hamiltonian"
   ]
  },
  {
   "cell_type": "markdown",
   "metadata": {},
   "source": [
    "$$\n",
    "\\hat{h}(x_i) =  \\hat{t}(x_i) + \\hat{u}_{\\mathrm{ext}}(x_i) +\\xi(\\boldsymbol{r})\\boldsymbol{ls}=\\hat{h}_0(x_i)+\\xi(\\boldsymbol{r})\\boldsymbol{ls}.\n",
    "$$"
   ]
  },
  {
   "cell_type": "markdown",
   "metadata": {},
   "source": [
    "We can calculate the expectation value of the latter using the fact that"
   ]
  },
  {
   "cell_type": "markdown",
   "metadata": {},
   "source": [
    "$$\n",
    "\\xi(\\boldsymbol{r})\\boldsymbol{ls}=\\frac{1}{2}\\xi(\\boldsymbol{r})\\left(\\boldsymbol{j}^2-\\boldsymbol{l}^2-\\boldsymbol{s}^2\\right).\n",
    "$$"
   ]
  },
  {
   "cell_type": "markdown",
   "metadata": {},
   "source": [
    "For a single-particle state with quantum numbers $nlj$ (we suppress $s$ and $m_j$), with $s=1/2$, we obtain the single-particle energies"
   ]
  },
  {
   "cell_type": "markdown",
   "metadata": {},
   "source": [
    "$$\n",
    "\\varepsilon_{nlj} = \\varepsilon_{nlj}^{(0)}+\\Delta\\varepsilon_{nlj},\n",
    "$$"
   ]
  },
  {
   "cell_type": "markdown",
   "metadata": {},
   "source": [
    "with $\\varepsilon_{nlj}^{(0)}$ being the single-particle energy obtained with $\\hat{h}_0(x)$ and"
   ]
  },
  {
   "cell_type": "markdown",
   "metadata": {},
   "source": [
    "$$\n",
    "\\Delta\\varepsilon_{nlj}=\\frac{C}{2}\\left(j(j+1)-l(l+1)-\\frac{3}{4}\\right).\n",
    "$$"
   ]
  },
  {
   "cell_type": "markdown",
   "metadata": {},
   "source": [
    "## Single-particle Hamiltonians and spin-orbit force\n",
    "The spin-orbit force gives thus an additional contribution to the energy"
   ]
  },
  {
   "cell_type": "markdown",
   "metadata": {},
   "source": [
    "$$\n",
    "\\Delta\\varepsilon_{nlj}=\\frac{C}{2}\\left(j(j+1)-l(l+1)-\\frac{3}{4}\\right),\n",
    "$$"
   ]
  },
  {
   "cell_type": "markdown",
   "metadata": {},
   "source": [
    "which lifts the degeneracy we have seen before in the harmonic oscillator or Woods-Saxon potentials. The value $C$ is the radial\n",
    "integral involving $\\xi(\\boldsymbol{r})$. Depending on the value of $j=l\\pm 1/2$, we obtain"
   ]
  },
  {
   "cell_type": "markdown",
   "metadata": {},
   "source": [
    "$$\n",
    "\\Delta\\varepsilon_{nlj=l-1/2}=\\frac{C}{2}l,\n",
    "$$"
   ]
  },
  {
   "cell_type": "markdown",
   "metadata": {},
   "source": [
    "or"
   ]
  },
  {
   "cell_type": "markdown",
   "metadata": {},
   "source": [
    "$$\n",
    "\\Delta\\varepsilon_{nlj=l+1/2}=-\\frac{C}{2}(l+1),\n",
    "$$"
   ]
  },
  {
   "cell_type": "markdown",
   "metadata": {},
   "source": [
    "clearly lifting the degeneracy. Note well that till now we have simply postulated the spin-orbit force in *ad hoc* way.\n",
    "This term arises from the nuclear force in a natural way.\n",
    "\n",
    "\n",
    "\n",
    "## Single-particle Hamiltonians and spin-orbit force\n",
    "With the spin-orbit force, we can modify our Woods-Saxon potential to"
   ]
  },
  {
   "cell_type": "markdown",
   "metadata": {},
   "source": [
    "$$\n",
    "\\hat{u}_{\\mathrm{ext}}(r)=-\\frac{V_0}{1+\\exp{(r-R)/a}}+V_{so}(r)\\boldsymbol{ls},\n",
    "$$"
   ]
  },
  {
   "cell_type": "markdown",
   "metadata": {},
   "source": [
    "with"
   ]
  },
  {
   "cell_type": "markdown",
   "metadata": {},
   "source": [
    "$$\n",
    "V_{so}(r) = V_{so}\\frac{1}{r}\\frac{d f_{so}(r)}{dr},\n",
    "$$"
   ]
  },
  {
   "cell_type": "markdown",
   "metadata": {},
   "source": [
    "where we have"
   ]
  },
  {
   "cell_type": "markdown",
   "metadata": {},
   "source": [
    "$$\n",
    "f_{so}(r) = \\frac{1}{1+\\exp{(r-R_{so})/a_{so}}}.\n",
    "$$"
   ]
  },
  {
   "cell_type": "markdown",
   "metadata": {},
   "source": [
    "<!-- !split  -->\n",
    "## Single-particle Hamiltonians and spin-orbit force\n",
    "We can also add, in case of proton, a Coulomb potential. The\n",
    "Woods-Saxon potential has been widely used in parametrizations of\n",
    "effective single-particle potentials.\n",
    "\n",
    "\n",
    "**However, as was the case with\n",
    "the harmonic oscillator, none of these potentials are linked directly\n",
    "to the nuclear forces**. \n",
    "\n",
    "This is solved by building a mean field based\n",
    "on the nucleon-nucleon interaction and forms the basis for the discussions of Brown and Hergert.\n",
    "\n",
    "\n",
    "\n",
    "\n",
    "\n",
    "\n",
    "## Single-particle Hamiltonians and spin-orbit force\n",
    "The Woods-Saxon potential does allow for closed-form or analytical solutions of the eigenvalue problem"
   ]
  },
  {
   "cell_type": "markdown",
   "metadata": {},
   "source": [
    "$$\n",
    "\\hat{h}_0(x_i)\\psi_{\\alpha}(x_i)=\\varepsilon_{\\alpha}\\psi_{\\alpha}(x_i).\n",
    "$$"
   ]
  },
  {
   "cell_type": "markdown",
   "metadata": {},
   "source": [
    "For the harmonic oscillator in three dimensions we have closed-form expressions for the energies and analytical solutions for the eigenstates,\n",
    "with the latter given by either Hermite polynomials (cartesian coordinates) or Laguerre polynomials (spherical coordinates).\n",
    "\n",
    "To solve the above equation is however rather straightforward numerically.\n",
    "\n",
    "\n",
    "\n",
    "## Numerical solution of the single-particle Schroedinger equation\n",
    "We will illustrate the numerical solution of Schroedinger's equation by solving it for the harmonic oscillator in three dimensions.\n",
    "It is straightforward to change the harmonic oscillator potential with a Woods-Saxon potential, or any other type of potentials. \n",
    "\n",
    "We are interested in the solution of the radial part of Schroedinger's equation for one nucleon. \n",
    "The angular momentum part  is given by the so-called Spherical harmonics. \n",
    "\n",
    "The radial equation reads"
   ]
  },
  {
   "cell_type": "markdown",
   "metadata": {},
   "source": [
    "$$\n",
    "-\\frac{\\hbar^2}{2 m} \\left ( \\frac{1}{r^2} \\frac{d}{dr} r^2\n",
    "  \\frac{d}{dr} - \\frac{l (l + 1)}{r^2} \\right )R(r) \n",
    "     + V(r) R(r) = E R(r).\n",
    "$$"
   ]
  },
  {
   "cell_type": "markdown",
   "metadata": {},
   "source": [
    "## Numerical solution of the single-particle Schroedinger equation\n",
    "In our case $V(r)$ is the harmonic oscillator potential $(1/2)kr^2$ with\n",
    "$k=m\\omega^2$ and $E$ is\n",
    "the energy of the harmonic oscillator in three dimensions.\n",
    "The oscillator frequency is $\\omega$ and the energies are"
   ]
  },
  {
   "cell_type": "markdown",
   "metadata": {},
   "source": [
    "$$\n",
    "E_{nl}=  \\hbar \\omega \\left(2n+l+\\frac{3}{2}\\right),\n",
    "$$"
   ]
  },
  {
   "cell_type": "markdown",
   "metadata": {},
   "source": [
    "with $n=0,1,2,\\dots$ and $l=0,1,2,\\dots$.\n",
    "\n",
    "\n",
    "\n",
    "\n",
    "\n",
    "## Numerical solution of the single-particle Schroedinger equation\n",
    "Since we have made a transformation to spherical coordinates it means that \n",
    "$r\\in [0,\\infty)$.  \n",
    "The quantum number\n",
    "$l$ is the orbital momentum of the nucleon.   Then we substitute $R(r) = (1/r) u(r)$ and obtain"
   ]
  },
  {
   "cell_type": "markdown",
   "metadata": {},
   "source": [
    "$$\n",
    "-\\frac{\\hbar^2}{2 m} \\frac{d^2}{dr^2} u(r) \n",
    "       + \\left ( V(r) + \\frac{l (l + 1)}{r^2}\\frac{\\hbar^2}{2 m}\n",
    "                                    \\right ) u(r)  = E u(r) .\n",
    "$$"
   ]
  },
  {
   "cell_type": "markdown",
   "metadata": {},
   "source": [
    "The boundary conditions are $u(0)=0$ and $u(\\infty)=0$.\n",
    "\n",
    "\n",
    "\n",
    "\n",
    "## Numerical solution of the single-particle Schroedinger equation\n",
    "We introduce a dimensionless variable $\\rho = (1/\\alpha) r$\n",
    "where $\\alpha$ is a constant with dimension length and get"
   ]
  },
  {
   "cell_type": "markdown",
   "metadata": {},
   "source": [
    "$$\n",
    "-\\frac{\\hbar^2}{2 m \\alpha^2} \\frac{d^2}{d\\rho^2} u(\\rho) \n",
    "       + \\left ( V(\\rho) + \\frac{l (l + 1)}{\\rho^2}\n",
    "         \\frac{\\hbar^2}{2 m\\alpha^2} \\right ) u(\\rho)  = E u(\\rho) .\n",
    "$$"
   ]
  },
  {
   "cell_type": "markdown",
   "metadata": {},
   "source": [
    "Let us specialize to $l=0$. \n",
    "Inserting $V(\\rho) = (1/2) k \\alpha^2\\rho^2$ we end up with"
   ]
  },
  {
   "cell_type": "markdown",
   "metadata": {},
   "source": [
    "$$\n",
    "-\\frac{\\hbar^2}{2 m \\alpha^2} \\frac{d^2}{d\\rho^2} u(\\rho) \n",
    "       + \\frac{k}{2} \\alpha^2\\rho^2u(\\rho)  = E u(\\rho) .\n",
    "$$"
   ]
  },
  {
   "cell_type": "markdown",
   "metadata": {},
   "source": [
    "We multiply thereafter with $2m\\alpha^2/\\hbar^2$ on both sides and obtain"
   ]
  },
  {
   "cell_type": "markdown",
   "metadata": {},
   "source": [
    "$$\n",
    "-\\frac{d^2}{d\\rho^2} u(\\rho) \n",
    "       + \\frac{mk}{\\hbar^2} \\alpha^4\\rho^2u(\\rho)  = \\frac{2m\\alpha^2}{\\hbar^2}E u(\\rho) .\n",
    "$$"
   ]
  },
  {
   "cell_type": "markdown",
   "metadata": {},
   "source": [
    "## Numerical solution of the single-particle Schroedinger equation\n",
    "We have thus"
   ]
  },
  {
   "cell_type": "markdown",
   "metadata": {},
   "source": [
    "$$\n",
    "-\\frac{d^2}{d\\rho^2} u(\\rho) \n",
    "       + \\frac{mk}{\\hbar^2} \\alpha^4\\rho^2u(\\rho)  = \\frac{2m\\alpha^2}{\\hbar^2}E u(\\rho) .\n",
    "$$"
   ]
  },
  {
   "cell_type": "markdown",
   "metadata": {},
   "source": [
    "The constant $\\alpha$ can now be fixed\n",
    "so that"
   ]
  },
  {
   "cell_type": "markdown",
   "metadata": {},
   "source": [
    "$$\n",
    "\\frac{mk}{\\hbar^2} \\alpha^4 = 1,\n",
    "$$"
   ]
  },
  {
   "cell_type": "markdown",
   "metadata": {},
   "source": [
    "or"
   ]
  },
  {
   "cell_type": "markdown",
   "metadata": {},
   "source": [
    "$$\n",
    "\\alpha = \\left(\\frac{\\hbar^2}{mk}\\right)^{1/4}.\n",
    "$$"
   ]
  },
  {
   "cell_type": "markdown",
   "metadata": {},
   "source": [
    "## Numerical solution of the single-particle Schroedinger equation\n",
    "Defining"
   ]
  },
  {
   "cell_type": "markdown",
   "metadata": {},
   "source": [
    "$$\n",
    "\\lambda = \\frac{2m\\alpha^2}{\\hbar^2}E,\n",
    "$$"
   ]
  },
  {
   "cell_type": "markdown",
   "metadata": {},
   "source": [
    "we can rewrite Schroedinger's equation as"
   ]
  },
  {
   "cell_type": "markdown",
   "metadata": {},
   "source": [
    "$$\n",
    "-\\frac{d^2}{d\\rho^2} u(\\rho) + \\rho^2u(\\rho)  = \\lambda u(\\rho) .\n",
    "$$"
   ]
  },
  {
   "cell_type": "markdown",
   "metadata": {},
   "source": [
    "This is the first equation to solve numerically. In three dimensions \n",
    "the eigenvalues for $l=0$ are \n",
    "$\\lambda_0=3,\\lambda_1=7,\\lambda_2=11,\\dots .$\n",
    "\n",
    "\n",
    "\n",
    "\n",
    "\n",
    "## Numerical solution of the single-particle Schroedinger equation\n",
    "We use the standard\n",
    "expression for the second derivative of a function $u$"
   ]
  },
  {
   "cell_type": "markdown",
   "metadata": {},
   "source": [
    "<!-- Equation labels as ordinary links -->\n",
    "<div id=\"eq:diffoperation\"></div>\n",
    "\n",
    "$$\n",
    "\\begin{equation}\n",
    "    u''=\\frac{u(\\rho+h) -2u(\\rho) +u(\\rho-h)}{h^2} +O(h^2),\n",
    "\\label{eq:diffoperation} \\tag{1}\n",
    "\\end{equation}\n",
    "$$"
   ]
  },
  {
   "cell_type": "markdown",
   "metadata": {},
   "source": [
    "where $h$ is our step.\n",
    "Next we define minimum and maximum values for the variable $\\rho$,\n",
    "$\\rho_{\\mathrm{min}}=0$  and $\\rho_{\\mathrm{max}}$, respectively.\n",
    "You need to check your results for the energies against different values\n",
    "$\\rho_{\\mathrm{max}}$, since we cannot set\n",
    "$\\rho_{\\mathrm{max}}=\\infty$.\n",
    "\n",
    "\n",
    "\n",
    "\n",
    "## Numerical solution of the single-particle Schroedinger equation\n",
    "With a given number of steps, $n_{\\mathrm{step}}$, we then \n",
    "define the step $h$ as"
   ]
  },
  {
   "cell_type": "markdown",
   "metadata": {},
   "source": [
    "$$\n",
    "h=\\frac{\\rho_{\\mathrm{max}}-\\rho_{\\mathrm{min}} }{n_{\\mathrm{step}}}.\n",
    "$$"
   ]
  },
  {
   "cell_type": "markdown",
   "metadata": {},
   "source": [
    "Define an arbitrary value of $\\rho$ as"
   ]
  },
  {
   "cell_type": "markdown",
   "metadata": {},
   "source": [
    "$$\n",
    "\\rho_i= \\rho_{\\mathrm{min}} + ih \\hspace{1cm} i=0,1,2,\\dots , n_{\\mathrm{step}}\n",
    "$$"
   ]
  },
  {
   "cell_type": "markdown",
   "metadata": {},
   "source": [
    "we can rewrite the Schroedinger equation for $\\rho_i$ as"
   ]
  },
  {
   "cell_type": "markdown",
   "metadata": {},
   "source": [
    "$$\n",
    "-\\frac{u(\\rho_i+h) -2u(\\rho_i) +u(\\rho_i-h)}{h^2}+\\rho_i^2u(\\rho_i)  = \\lambda u(\\rho_i),\n",
    "$$"
   ]
  },
  {
   "cell_type": "markdown",
   "metadata": {},
   "source": [
    "or in  a more compact way"
   ]
  },
  {
   "cell_type": "markdown",
   "metadata": {},
   "source": [
    "$$\n",
    "-\\frac{u_{i+1} -2u_i +u_{i-1}}{h^2}+\\rho_i^2u_i=-\\frac{u_{i+1} -2u_i +u_{i-1} }{h^2}+V_iu_i  = \\lambda u_i.\n",
    "$$"
   ]
  },
  {
   "cell_type": "markdown",
   "metadata": {},
   "source": [
    "## Numerical solution of the single-particle Schroedinger equation\n",
    "Define first the diagonal matrix element"
   ]
  },
  {
   "cell_type": "markdown",
   "metadata": {},
   "source": [
    "$$\n",
    "d_i=\\frac{2}{h^2}+V_i,\n",
    "$$"
   ]
  },
  {
   "cell_type": "markdown",
   "metadata": {},
   "source": [
    "and the non-diagonal matrix element"
   ]
  },
  {
   "cell_type": "markdown",
   "metadata": {},
   "source": [
    "$$\n",
    "e_i=-\\frac{1}{h^2}.\n",
    "$$"
   ]
  },
  {
   "cell_type": "markdown",
   "metadata": {},
   "source": [
    "In this case the non-diagonal matrix elements are given by a mere constant. *All non-diagonal matrix elements are equal*.\n",
    "\n",
    "\n",
    "\n",
    "\n",
    "## Numerical solution of the single-particle Schroedinger equation\n",
    "With these definitions the Schroedinger equation takes the following form"
   ]
  },
  {
   "cell_type": "markdown",
   "metadata": {},
   "source": [
    "$$\n",
    "d_iu_i+e_{i-1}u_{i-1}+e_{i+1}u_{i+1}  = \\lambda u_i,\n",
    "$$"
   ]
  },
  {
   "cell_type": "markdown",
   "metadata": {},
   "source": [
    "where $u_i$ is unknown. We can write the \n",
    "latter equation as a matrix eigenvalue problem"
   ]
  },
  {
   "cell_type": "markdown",
   "metadata": {},
   "source": [
    "<!-- Equation labels as ordinary links -->\n",
    "<div id=\"eq:sematrix\"></div>\n",
    "\n",
    "$$\n",
    "\\begin{equation}\n",
    "    \\left( \\begin{array}{ccccccc} d_1 & e_1 & 0   & 0    & \\dots  &0     & 0 \\\\\n",
    "                                e_1 & d_2 & e_2 & 0    & \\dots  &0     &0 \\\\\n",
    "                                0   & e_2 & d_3 & e_3  &0       &\\dots & 0\\\\\n",
    "                                \\dots  & \\dots & \\dots & \\dots  &\\dots      &\\dots & \\dots\\\\\n",
    "                                0   & \\dots & \\dots & \\dots  &\\dots       &d_{n_{\\mathrm{step}}-2} & e_{n_{\\mathrm{step}}-1}\\\\\n",
    "                                0   & \\dots & \\dots & \\dots  &\\dots       &e_{n_{\\mathrm{step}}-1} & d_{n_{\\mathrm{step}}-1}\n",
    "             \\end{array} \\right)      \\left( \\begin{array}{c} u_{1} \\\\\n",
    "                                                              u_{2} \\\\\n",
    "                                                              \\dots\\\\ \\dots\\\\ \\dots\\\\\n",
    "                                                              u_{n_{\\mathrm{step}}-1}\n",
    "             \\end{array} \\right)=\\lambda \\left( \\begin{array}{c} u_{1} \\\\\n",
    "                                                              u_{2} \\\\\n",
    "                                                              \\dots\\\\ \\dots\\\\ \\dots\\\\\n",
    "                                                              u_{n_{\\mathrm{step}}-1}\n",
    "             \\end{array} \\right) \n",
    "\\label{eq:sematrix} \\tag{2}\n",
    "\\end{equation}\n",
    "$$"
   ]
  },
  {
   "cell_type": "markdown",
   "metadata": {},
   "source": [
    "## Numerical solution of the single-particle Schroedinger equation\n",
    "\n",
    "To be more detailed we have"
   ]
  },
  {
   "cell_type": "markdown",
   "metadata": {},
   "source": [
    "<!-- Equation labels as ordinary links -->\n",
    "<div id=\"eq:matrixse\"></div>\n",
    "\n",
    "$$\n",
    "\\begin{equation}\n",
    "    \\left( \\begin{array}{ccccccc} \\frac{2}{h^2}+V_1 & -\\frac{1}{h^2} & 0   & 0    & \\dots  &0     & 0 \\\\\n",
    "                                -\\frac{1}{h^2} & \\frac{2}{h^2}+V_2 & -\\frac{1}{h^2} & 0    & \\dots  &0     &0 \\\\\n",
    "                                0   & -\\frac{1}{h^2} & \\frac{2}{h^2}+V_3 & -\\frac{1}{h^2}  &0       &\\dots & 0\\\\\n",
    "                                \\dots  & \\dots & \\dots & \\dots  &\\dots      &\\dots & \\dots\\\\\n",
    "                                0   & \\dots & \\dots & \\dots  &\\dots       &\\frac{2}{h^2}+V_{n_{\\mathrm{step}}-2} & -\\frac{1}{h^2}\\\\\n",
    "                                0   & \\dots & \\dots & \\dots  &\\dots       &-\\frac{1}{h^2} & \\frac{2}{h^2}+V_{n_{\\mathrm{step}}-1}\n",
    "             \\end{array} \\right)  \n",
    "\\label{eq:matrixse} \\tag{3} \n",
    "\\end{equation}\n",
    "$$"
   ]
  },
  {
   "cell_type": "markdown",
   "metadata": {},
   "source": [
    "Recall that the solutions are known via the boundary conditions at\n",
    "$i=n_{\\mathrm{step}}$ and at the other end point, that is for  $\\rho_0$.\n",
    "The solution is zero in both cases.\n",
    "\n",
    "\n",
    "\n",
    "\n",
    "\n",
    "## Program to solve Schroedinger's equation\n",
    "The following python program is an example of how one can obtain the eigenvalues for a single-nucleon moving in a harmonic oscillator potential. It is rather easy to change the onebody-potential with ones like a Woods-Saxon potential.\n",
    "\n",
    "\n",
    "\n",
    "\n",
    "## Program to solve Schroedinger's equation\n",
    "The code sets up the Hamiltonian matrix by defining the the minimun and maximum values of $r$ with a\n",
    "maximum value of integration points.  These are set in the initialization function. It plots the \n",
    "eigenfunctions of the three lowest eigenstates."
   ]
  },
  {
   "cell_type": "code",
   "execution_count": 11,
   "metadata": {},
   "outputs": [],
   "source": [
    "#Program which solves the one-particle Schrodinger equation\n",
    "#for a potential specified in function\n",
    "#potential().\n",
    "\n",
    "from  matplotlib import pyplot as plt\n",
    "import numpy as np\n",
    "#Function for initialization of parameters\n",
    "def initialize():\n",
    "    RMin = 0.0\n",
    "    RMax = 10.0\n",
    "    lOrbital = 0\n",
    "    Dim = 400\n",
    "    return RMin, RMax, lOrbital, Dim\n",
    "#Harmonic oscillator here, easy to change\n",
    "def potential(r):\n",
    "    return 0.5*r*r\n",
    "    #  return 0.0\n",
    "    #  return -1.0/r\n",
    "    #if r >= 0.0 and r <= 10.0:\n",
    "    #    V = -0.05\n",
    "    #else:\n",
    "    #    V =0.0\n",
    "    #return V\n",
    "\n",
    "\n",
    "#Get the boundary, orbital momentum and number of integration points\n",
    "RMin, RMax, lOrbital, Dim = initialize()\n",
    "\n",
    "#Initialize constants\n",
    "Step    = RMax/(Dim+1)\n",
    "DiagConst = 1.0/ (Step*Step)\n",
    "NondiagConst =  -0.5 / (Step*Step)\n",
    "OrbitalFactor = 0.5*lOrbital * (lOrbital + 1.0)\n",
    "\n",
    "#Calculate array of potential values\n",
    "v = np.zeros(Dim)\n",
    "r = np.linspace(RMin,RMax,Dim)\n",
    "for i in range(Dim):\n",
    "    r[i] = RMin + (i+1) * Step;\n",
    "    v[i] = potential(r[i]) + OrbitalFactor/(r[i]*r[i]);\n",
    "\n",
    "#Setting up a tridiagonal matrix and finding eigenvectors and eigenvalues\n",
    "Matrix = np.zeros((Dim,Dim))\n",
    "Matrix[0,0] = DiagConst + v[0];\n",
    "Matrix[0,1] = NondiagConst;\n",
    "for i in range(1,Dim-1):\n",
    "    Matrix[i,i-1]  = NondiagConst;\n",
    "    Matrix[i,i]    = DiagConst + v[i];\n",
    "    Matrix[i,i+1]  = NondiagConst;\n",
    "Matrix[Dim-1,Dim-2] = NondiagConst;\n",
    "Matrix[Dim-1,Dim-1] = DiagConst + v[Dim-1];\n",
    "# diagonalize and obtain eigenvalues, not necessarily sorted\n",
    "EigValues, EigVectors = np.linalg.eig(Matrix)\n",
    "# sort eigenvectors and eigenvalues\n",
    "permute = EigValues.argsort()\n",
    "EigValues = EigValues[permute]\n",
    "EigVectors = EigVectors[:,permute]\n",
    "# now plot the results for the three lowest lying eigenstates\n",
    "for i in range(3):\n",
    "    print(EigValues[i])\n",
    "FirstEigvector = EigVectors[:,0]\n",
    "SecondEigvector = EigVectors[:,1]\n",
    "ThirdEigvector = EigVectors[:,2]\n",
    "plt.plot(r, FirstEigvector**2 ,'b-',r, SecondEigvector**2 ,'g-',r, ThirdEigvector**2 ,'r-')\n",
    "plt.axis([0,4.6,0.0, 0.025])\n",
    "plt.xlabel(r'$r$')\n",
    "plt.ylabel(r'Radial probability $r^2|R(r)|^2$')\n",
    "plt.title(r'Radial probability distributions for three lowest-lying states')\n",
    "plt.show()"
   ]
  },
  {
   "cell_type": "markdown",
   "metadata": {},
   "source": [
    "<!-- --- begin exercise --- -->\n",
    "\n",
    "## Exercise 2: Eigenstates and eigenvalues of single-particle problems\n",
    "\n",
    "\n",
    "\n",
    "**a)**\n",
    "Compute the eigenvalues of the three lowest states with a given orbital momentum and oscillator frequency $\\omega$. Study these results as functions of the the maximum value of $r$ and the number of integration points $n$, starting with  $r_{\\mathrm{max}}=10$. Compare the computed ones with the exact values and comment your results.\n",
    "\n",
    "**b)**\n",
    "Plot thereafter the eigenfunctions as functions of $r$ for the lowest-lying state with a given orbital momentum $l$.\n",
    "\n",
    "**c)**\n",
    "Replace thereafter the harmonic oscillator potential with a Woods-Saxon potential using the parameters discussed above. Compute the lowest three eigenvalues and plot the eigenfunction of the lowest-lying state. How does this compare with the harmonic oscillator? Comment your results and possible implications for nuclear physics studies.\n",
    "\n",
    "\n",
    "\n",
    "\n",
    "<!-- --- end exercise --- -->\n",
    "\n",
    "\n",
    "## Where do we go from here?\n",
    "\n",
    "With a single-particle basis (an orthonormal basis) we can construct a basis of anti-symmetrized and orthogonal many-body states\n",
    "(called Slater determinants). This basis can then be used to study various many-body methods and properties of nuclei.\n",
    "Recall that nuclei are complicated many-body systems. It is an essential input to Brown's and Hergert's talks later this week.\n",
    "\n",
    "\n",
    "\n",
    "A single-particle basis like the harmonic oscillator basis is also a useful basis for computing integrals involved in the computation of various matrix elements.\n",
    "\n",
    "\n",
    "\n",
    "\n",
    "Hopefully, this gives you an input to the discussions to come of Alex Brown, Dean Lee and Filomena Nunes.  Best wishes to you all and enjoy your time at MSU."
   ]
  }
 ],
 "metadata": {
  "kernelspec": {
   "display_name": "Python 3",
   "language": "python",
   "name": "python3"
  },
  "language_info": {
   "codemirror_mode": {
    "name": "ipython",
    "version": 3
   },
   "file_extension": ".py",
   "mimetype": "text/x-python",
   "name": "python",
   "nbconvert_exporter": "python",
   "pygments_lexer": "ipython3",
   "version": "3.7.3"
  }
 },
 "nbformat": 4,
 "nbformat_minor": 2
}
